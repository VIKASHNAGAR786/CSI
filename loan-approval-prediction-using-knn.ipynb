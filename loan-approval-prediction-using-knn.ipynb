{
 "cells": [
  {
   "cell_type": "code",
   "execution_count": 42,
   "id": "7ac94a35",
   "metadata": {
    "papermill": {
     "duration": 1.309627,
     "end_time": "2023-05-15T05:46:26.234231",
     "exception": false,
     "start_time": "2023-05-15T05:46:24.924604",
     "status": "completed"
    },
    "tags": []
   },
   "outputs": [],
   "source": [
    "#Importing libraries\n",
    "\n",
    "import numpy as np\n",
    "import pandas as pd\n",
    "import seaborn as sns\n",
    "import matplotlib.pyplot as plt"
   ]
  },
  {
   "cell_type": "code",
   "execution_count": 43,
   "id": "31b57db4",
   "metadata": {
    "papermill": {
     "duration": 0.062389,
     "end_time": "2023-05-15T05:46:26.326083",
     "exception": false,
     "start_time": "2023-05-15T05:46:26.263694",
     "status": "completed"
    },
    "tags": []
   },
   "outputs": [],
   "source": [
    "#Reading the dataset\n",
    "\n",
    "train_dataset = pd.read_csv('Training Dataset.csv')\n",
    "test_dataset = pd.read_csv('Test Dataset.csv')\n",
    "\n",
    "train_df = train_dataset.copy()\n",
    "test_df = test_dataset.copy()"
   ]
  },
  {
   "cell_type": "code",
   "execution_count": 44,
   "id": "4abb9eb2",
   "metadata": {
    "papermill": {
     "duration": 0.041568,
     "end_time": "2023-05-15T05:46:26.398447",
     "exception": false,
     "start_time": "2023-05-15T05:46:26.356879",
     "status": "completed"
    },
    "tags": []
   },
   "outputs": [
    {
     "name": "stdout",
     "output_type": "stream",
     "text": [
      "(614, 13)\n",
      "(367, 12)\n"
     ]
    }
   ],
   "source": [
    "print(train_df.shape)\n",
    "print(test_df.shape)\n",
    "\n"
   ]
  },
  {
   "cell_type": "code",
   "execution_count": 45,
   "id": "a92eb175",
   "metadata": {
    "papermill": {
     "duration": 0.040958,
     "end_time": "2023-05-15T05:46:26.469907",
     "exception": false,
     "start_time": "2023-05-15T05:46:26.428949",
     "status": "completed"
    },
    "tags": []
   },
   "outputs": [
    {
     "name": "stdout",
     "output_type": "stream",
     "text": [
      "Training-->\n",
      "Index(['Loan_ID', 'Gender', 'Married', 'Dependents', 'Education',\n",
      "       'Self_Employed', 'ApplicantIncome', 'CoapplicantIncome', 'LoanAmount',\n",
      "       'Loan_Amount_Term', 'Credit_History', 'Property_Area', 'Loan_Status'],\n",
      "      dtype='object')\n",
      "Testing-->\n",
      "Index(['Loan_ID', 'Gender', 'Married', 'Dependents', 'Education',\n",
      "       'Self_Employed', 'ApplicantIncome', 'CoapplicantIncome', 'LoanAmount',\n",
      "       'Loan_Amount_Term', 'Credit_History', 'Property_Area'],\n",
      "      dtype='object')\n"
     ]
    }
   ],
   "source": [
    "print('Training-->')\n",
    "print(train_df.columns)\n",
    "print('Testing-->')\n",
    "print(test_df.columns)"
   ]
  },
  {
   "cell_type": "code",
   "execution_count": 46,
   "id": "88c1ae59",
   "metadata": {
    "papermill": {
     "duration": 0.066084,
     "end_time": "2023-05-15T05:46:26.565329",
     "exception": false,
     "start_time": "2023-05-15T05:46:26.499245",
     "status": "completed"
    },
    "tags": []
   },
   "outputs": [
    {
     "data": {
      "text/html": [
       "<div>\n",
       "<style scoped>\n",
       "    .dataframe tbody tr th:only-of-type {\n",
       "        vertical-align: middle;\n",
       "    }\n",
       "\n",
       "    .dataframe tbody tr th {\n",
       "        vertical-align: top;\n",
       "    }\n",
       "\n",
       "    .dataframe thead th {\n",
       "        text-align: right;\n",
       "    }\n",
       "</style>\n",
       "<table border=\"1\" class=\"dataframe\">\n",
       "  <thead>\n",
       "    <tr style=\"text-align: right;\">\n",
       "      <th></th>\n",
       "      <th>Loan_ID</th>\n",
       "      <th>Gender</th>\n",
       "      <th>Married</th>\n",
       "      <th>Dependents</th>\n",
       "      <th>Education</th>\n",
       "      <th>Self_Employed</th>\n",
       "      <th>ApplicantIncome</th>\n",
       "      <th>CoapplicantIncome</th>\n",
       "      <th>LoanAmount</th>\n",
       "      <th>Loan_Amount_Term</th>\n",
       "      <th>Credit_History</th>\n",
       "      <th>Property_Area</th>\n",
       "      <th>Loan_Status</th>\n",
       "    </tr>\n",
       "  </thead>\n",
       "  <tbody>\n",
       "    <tr>\n",
       "      <th>0</th>\n",
       "      <td>LP001002</td>\n",
       "      <td>Male</td>\n",
       "      <td>No</td>\n",
       "      <td>0</td>\n",
       "      <td>Graduate</td>\n",
       "      <td>No</td>\n",
       "      <td>5849</td>\n",
       "      <td>0.0</td>\n",
       "      <td>NaN</td>\n",
       "      <td>360.0</td>\n",
       "      <td>1.0</td>\n",
       "      <td>Urban</td>\n",
       "      <td>Y</td>\n",
       "    </tr>\n",
       "    <tr>\n",
       "      <th>1</th>\n",
       "      <td>LP001003</td>\n",
       "      <td>Male</td>\n",
       "      <td>Yes</td>\n",
       "      <td>1</td>\n",
       "      <td>Graduate</td>\n",
       "      <td>No</td>\n",
       "      <td>4583</td>\n",
       "      <td>1508.0</td>\n",
       "      <td>128.0</td>\n",
       "      <td>360.0</td>\n",
       "      <td>1.0</td>\n",
       "      <td>Rural</td>\n",
       "      <td>N</td>\n",
       "    </tr>\n",
       "    <tr>\n",
       "      <th>2</th>\n",
       "      <td>LP001005</td>\n",
       "      <td>Male</td>\n",
       "      <td>Yes</td>\n",
       "      <td>0</td>\n",
       "      <td>Graduate</td>\n",
       "      <td>Yes</td>\n",
       "      <td>3000</td>\n",
       "      <td>0.0</td>\n",
       "      <td>66.0</td>\n",
       "      <td>360.0</td>\n",
       "      <td>1.0</td>\n",
       "      <td>Urban</td>\n",
       "      <td>Y</td>\n",
       "    </tr>\n",
       "    <tr>\n",
       "      <th>3</th>\n",
       "      <td>LP001006</td>\n",
       "      <td>Male</td>\n",
       "      <td>Yes</td>\n",
       "      <td>0</td>\n",
       "      <td>Not Graduate</td>\n",
       "      <td>No</td>\n",
       "      <td>2583</td>\n",
       "      <td>2358.0</td>\n",
       "      <td>120.0</td>\n",
       "      <td>360.0</td>\n",
       "      <td>1.0</td>\n",
       "      <td>Urban</td>\n",
       "      <td>Y</td>\n",
       "    </tr>\n",
       "    <tr>\n",
       "      <th>4</th>\n",
       "      <td>LP001008</td>\n",
       "      <td>Male</td>\n",
       "      <td>No</td>\n",
       "      <td>0</td>\n",
       "      <td>Graduate</td>\n",
       "      <td>No</td>\n",
       "      <td>6000</td>\n",
       "      <td>0.0</td>\n",
       "      <td>141.0</td>\n",
       "      <td>360.0</td>\n",
       "      <td>1.0</td>\n",
       "      <td>Urban</td>\n",
       "      <td>Y</td>\n",
       "    </tr>\n",
       "  </tbody>\n",
       "</table>\n",
       "</div>"
      ],
      "text/plain": [
       "    Loan_ID Gender Married Dependents     Education Self_Employed   \n",
       "0  LP001002   Male      No          0      Graduate            No  \\\n",
       "1  LP001003   Male     Yes          1      Graduate            No   \n",
       "2  LP001005   Male     Yes          0      Graduate           Yes   \n",
       "3  LP001006   Male     Yes          0  Not Graduate            No   \n",
       "4  LP001008   Male      No          0      Graduate            No   \n",
       "\n",
       "   ApplicantIncome  CoapplicantIncome  LoanAmount  Loan_Amount_Term   \n",
       "0             5849                0.0         NaN             360.0  \\\n",
       "1             4583             1508.0       128.0             360.0   \n",
       "2             3000                0.0        66.0             360.0   \n",
       "3             2583             2358.0       120.0             360.0   \n",
       "4             6000                0.0       141.0             360.0   \n",
       "\n",
       "   Credit_History Property_Area Loan_Status  \n",
       "0             1.0         Urban           Y  \n",
       "1             1.0         Rural           N  \n",
       "2             1.0         Urban           Y  \n",
       "3             1.0         Urban           Y  \n",
       "4             1.0         Urban           Y  "
      ]
     },
     "execution_count": 46,
     "metadata": {},
     "output_type": "execute_result"
    }
   ],
   "source": [
    "train_df.head()"
   ]
  },
  {
   "cell_type": "code",
   "execution_count": 47,
   "id": "79d12754",
   "metadata": {
    "papermill": {
     "duration": 0.042399,
     "end_time": "2023-05-15T05:46:26.637257",
     "exception": false,
     "start_time": "2023-05-15T05:46:26.594858",
     "status": "completed"
    },
    "tags": []
   },
   "outputs": [
    {
     "data": {
      "text/plain": [
       "(614, 13)"
      ]
     },
     "execution_count": 47,
     "metadata": {},
     "output_type": "execute_result"
    }
   ],
   "source": [
    "train_df.shape"
   ]
  },
  {
   "cell_type": "markdown",
   "id": "6e692b94",
   "metadata": {
    "papermill": {
     "duration": 0.030272,
     "end_time": "2023-05-15T05:46:26.697769",
     "exception": false,
     "start_time": "2023-05-15T05:46:26.667497",
     "status": "completed"
    },
    "tags": []
   },
   "source": [
    "# > *EDA*"
   ]
  },
  {
   "cell_type": "code",
   "execution_count": 48,
   "id": "eca407ad",
   "metadata": {
    "papermill": {
     "duration": 0.043601,
     "end_time": "2023-05-15T05:46:26.771318",
     "exception": false,
     "start_time": "2023-05-15T05:46:26.727717",
     "status": "completed"
    },
    "tags": []
   },
   "outputs": [
    {
     "data": {
      "text/plain": [
       "Index(['Loan_ID', 'Gender', 'Married', 'Dependents', 'Education',\n",
       "       'Self_Employed', 'ApplicantIncome', 'CoapplicantIncome', 'LoanAmount',\n",
       "       'Loan_Amount_Term', 'Credit_History', 'Property_Area', 'Loan_Status'],\n",
       "      dtype='object')"
      ]
     },
     "execution_count": 48,
     "metadata": {},
     "output_type": "execute_result"
    }
   ],
   "source": [
    "train_df.columns"
   ]
  },
  {
   "cell_type": "code",
   "execution_count": 49,
   "id": "1d71ec1b",
   "metadata": {
    "papermill": {
     "duration": 0.058722,
     "end_time": "2023-05-15T05:46:26.860180",
     "exception": false,
     "start_time": "2023-05-15T05:46:26.801458",
     "status": "completed"
    },
    "tags": []
   },
   "outputs": [
    {
     "data": {
      "text/html": [
       "<div>\n",
       "<style scoped>\n",
       "    .dataframe tbody tr th:only-of-type {\n",
       "        vertical-align: middle;\n",
       "    }\n",
       "\n",
       "    .dataframe tbody tr th {\n",
       "        vertical-align: top;\n",
       "    }\n",
       "\n",
       "    .dataframe thead th {\n",
       "        text-align: right;\n",
       "    }\n",
       "</style>\n",
       "<table border=\"1\" class=\"dataframe\">\n",
       "  <thead>\n",
       "    <tr style=\"text-align: right;\">\n",
       "      <th></th>\n",
       "      <th>Loan_ID</th>\n",
       "      <th>Gender</th>\n",
       "      <th>Married</th>\n",
       "      <th>Dependents</th>\n",
       "      <th>Education</th>\n",
       "      <th>Self_Employed</th>\n",
       "      <th>ApplicantIncome</th>\n",
       "      <th>CoapplicantIncome</th>\n",
       "      <th>LoanAmount</th>\n",
       "      <th>Loan_Amount_Term</th>\n",
       "      <th>Credit_History</th>\n",
       "      <th>Property_Area</th>\n",
       "      <th>Loan_Status</th>\n",
       "    </tr>\n",
       "  </thead>\n",
       "  <tbody>\n",
       "    <tr>\n",
       "      <th>0</th>\n",
       "      <td>LP001002</td>\n",
       "      <td>Male</td>\n",
       "      <td>No</td>\n",
       "      <td>0</td>\n",
       "      <td>Graduate</td>\n",
       "      <td>No</td>\n",
       "      <td>5849</td>\n",
       "      <td>0.0</td>\n",
       "      <td>NaN</td>\n",
       "      <td>360.0</td>\n",
       "      <td>1.0</td>\n",
       "      <td>Urban</td>\n",
       "      <td>Y</td>\n",
       "    </tr>\n",
       "    <tr>\n",
       "      <th>1</th>\n",
       "      <td>LP001003</td>\n",
       "      <td>Male</td>\n",
       "      <td>Yes</td>\n",
       "      <td>1</td>\n",
       "      <td>Graduate</td>\n",
       "      <td>No</td>\n",
       "      <td>4583</td>\n",
       "      <td>1508.0</td>\n",
       "      <td>128.0</td>\n",
       "      <td>360.0</td>\n",
       "      <td>1.0</td>\n",
       "      <td>Rural</td>\n",
       "      <td>N</td>\n",
       "    </tr>\n",
       "    <tr>\n",
       "      <th>2</th>\n",
       "      <td>LP001005</td>\n",
       "      <td>Male</td>\n",
       "      <td>Yes</td>\n",
       "      <td>0</td>\n",
       "      <td>Graduate</td>\n",
       "      <td>Yes</td>\n",
       "      <td>3000</td>\n",
       "      <td>0.0</td>\n",
       "      <td>66.0</td>\n",
       "      <td>360.0</td>\n",
       "      <td>1.0</td>\n",
       "      <td>Urban</td>\n",
       "      <td>Y</td>\n",
       "    </tr>\n",
       "    <tr>\n",
       "      <th>3</th>\n",
       "      <td>LP001006</td>\n",
       "      <td>Male</td>\n",
       "      <td>Yes</td>\n",
       "      <td>0</td>\n",
       "      <td>Not Graduate</td>\n",
       "      <td>No</td>\n",
       "      <td>2583</td>\n",
       "      <td>2358.0</td>\n",
       "      <td>120.0</td>\n",
       "      <td>360.0</td>\n",
       "      <td>1.0</td>\n",
       "      <td>Urban</td>\n",
       "      <td>Y</td>\n",
       "    </tr>\n",
       "    <tr>\n",
       "      <th>4</th>\n",
       "      <td>LP001008</td>\n",
       "      <td>Male</td>\n",
       "      <td>No</td>\n",
       "      <td>0</td>\n",
       "      <td>Graduate</td>\n",
       "      <td>No</td>\n",
       "      <td>6000</td>\n",
       "      <td>0.0</td>\n",
       "      <td>141.0</td>\n",
       "      <td>360.0</td>\n",
       "      <td>1.0</td>\n",
       "      <td>Urban</td>\n",
       "      <td>Y</td>\n",
       "    </tr>\n",
       "  </tbody>\n",
       "</table>\n",
       "</div>"
      ],
      "text/plain": [
       "    Loan_ID Gender Married Dependents     Education Self_Employed   \n",
       "0  LP001002   Male      No          0      Graduate            No  \\\n",
       "1  LP001003   Male     Yes          1      Graduate            No   \n",
       "2  LP001005   Male     Yes          0      Graduate           Yes   \n",
       "3  LP001006   Male     Yes          0  Not Graduate            No   \n",
       "4  LP001008   Male      No          0      Graduate            No   \n",
       "\n",
       "   ApplicantIncome  CoapplicantIncome  LoanAmount  Loan_Amount_Term   \n",
       "0             5849                0.0         NaN             360.0  \\\n",
       "1             4583             1508.0       128.0             360.0   \n",
       "2             3000                0.0        66.0             360.0   \n",
       "3             2583             2358.0       120.0             360.0   \n",
       "4             6000                0.0       141.0             360.0   \n",
       "\n",
       "   Credit_History Property_Area Loan_Status  \n",
       "0             1.0         Urban           Y  \n",
       "1             1.0         Rural           N  \n",
       "2             1.0         Urban           Y  \n",
       "3             1.0         Urban           Y  \n",
       "4             1.0         Urban           Y  "
      ]
     },
     "execution_count": 49,
     "metadata": {},
     "output_type": "execute_result"
    }
   ],
   "source": [
    "train_df.head()"
   ]
  },
  {
   "cell_type": "code",
   "execution_count": 50,
   "id": "18beca52",
   "metadata": {
    "papermill": {
     "duration": 0.052925,
     "end_time": "2023-05-15T05:46:26.944651",
     "exception": false,
     "start_time": "2023-05-15T05:46:26.891726",
     "status": "completed"
    },
    "tags": []
   },
   "outputs": [
    {
     "data": {
      "text/plain": [
       "Loan_Status\n",
       "Y    0.687296\n",
       "N    0.312704\n",
       "Name: proportion, dtype: float64"
      ]
     },
     "execution_count": 50,
     "metadata": {},
     "output_type": "execute_result"
    }
   ],
   "source": [
    "train_df['Loan_Status'].value_counts(normalize=True)"
   ]
  },
  {
   "cell_type": "markdown",
   "id": "5a68183d",
   "metadata": {
    "papermill": {
     "duration": 0.032345,
     "end_time": "2023-05-15T05:46:27.008152",
     "exception": false,
     "start_time": "2023-05-15T05:46:26.975807",
     "status": "completed"
    },
    "tags": []
   },
   "source": [
    "> *So there were more loan approved than loan rejection.*"
   ]
  },
  {
   "cell_type": "code",
   "execution_count": 51,
   "id": "7a4cb0a5",
   "metadata": {
    "papermill": {
     "duration": 0.043836,
     "end_time": "2023-05-15T05:46:27.082280",
     "exception": false,
     "start_time": "2023-05-15T05:46:27.038444",
     "status": "completed"
    },
    "tags": []
   },
   "outputs": [
    {
     "data": {
      "text/plain": [
       "Gender\n",
       "Male      0.813644\n",
       "Female    0.186356\n",
       "Name: proportion, dtype: float64"
      ]
     },
     "execution_count": 51,
     "metadata": {},
     "output_type": "execute_result"
    }
   ],
   "source": [
    "train_df['Gender'].value_counts(normalize=True)"
   ]
  },
  {
   "cell_type": "code",
   "execution_count": 52,
   "id": "24877be4",
   "metadata": {
    "papermill": {
     "duration": 0.055514,
     "end_time": "2023-05-15T05:46:27.169497",
     "exception": false,
     "start_time": "2023-05-15T05:46:27.113983",
     "status": "completed"
    },
    "tags": []
   },
   "outputs": [
    {
     "name": "stdout",
     "output_type": "stream",
     "text": [
      "For Male------>\n",
      "Loan_Status\n",
      "Y    0.693252\n",
      "N    0.306748\n",
      "Name: proportion, dtype: float64\n",
      "For Female------->\n",
      "Loan_Status\n",
      "Y    0.669643\n",
      "N    0.330357\n",
      "Name: proportion, dtype: float64\n"
     ]
    }
   ],
   "source": [
    "#Percentage of Loan approval for Male and Female\n",
    "Male_approval_percentage = train_df[train_df['Gender']=='Male']['Loan_Status'].value_counts(normalize=True)\n",
    "Female_approval_percentage = train_df[train_df['Gender']=='Female']['Loan_Status'].value_counts(normalize=True)\n",
    "print('For Male------>')\n",
    "print(Male_approval_percentage)\n",
    "print('For Female------->')\n",
    "print(Female_approval_percentage)"
   ]
  },
  {
   "cell_type": "code",
   "execution_count": 53,
   "id": "348db136",
   "metadata": {
    "papermill": {
     "duration": 0.883696,
     "end_time": "2023-05-15T05:46:28.084145",
     "exception": false,
     "start_time": "2023-05-15T05:46:27.200449",
     "status": "completed"
    },
    "tags": []
   },
   "outputs": [
    {
     "name": "stderr",
     "output_type": "stream",
     "text": [
      "C:\\Users\\VIKAS NAGAR\\anaconda3\\Lib\\site-packages\\seaborn\\axisgrid.py:118: UserWarning: The figure layout has changed to tight\n",
      "  self._figure.tight_layout(*args, **kwargs)\n"
     ]
    },
    {
     "data": {
      "text/plain": [
       "<seaborn.axisgrid.FacetGrid at 0x19e38374d50>"
      ]
     },
     "execution_count": 53,
     "metadata": {},
     "output_type": "execute_result"
    },
    {
     "data": {
      "image/png": "[encoded data removed]",
      "text/plain": [
       "<Figure size 600.25x500 with 1 Axes>"
      ]
     },
     "metadata": {},
     "output_type": "display_data"
    }
   ],
   "source": [
    "sns.displot(x='LoanAmount', hue='Gender', data=train_df, kde=True)"
   ]
  },
  {
   "cell_type": "markdown",
   "id": "2cdb7946",
   "metadata": {
    "papermill": {
     "duration": 0.031121,
     "end_time": "2023-05-15T05:46:28.147264",
     "exception": false,
     "start_time": "2023-05-15T05:46:28.116143",
     "status": "completed"
    },
    "tags": []
   },
   "source": [
    "> *Statistically, Gender does'nt effect your loan approval chances.*"
   ]
  },
  {
   "cell_type": "markdown",
   "id": "af2630c4",
   "metadata": {
    "papermill": {
     "duration": 0.031104,
     "end_time": "2023-05-15T05:46:28.211183",
     "exception": false,
     "start_time": "2023-05-15T05:46:28.180079",
     "status": "completed"
    },
    "tags": []
   },
   "source": [
    "> *There were more Male than Female asking for Loan.*"
   ]
  },
  {
   "cell_type": "code",
   "execution_count": 54,
   "id": "1c25f377",
   "metadata": {
    "papermill": {
     "duration": 0.047584,
     "end_time": "2023-05-15T05:46:28.290142",
     "exception": false,
     "start_time": "2023-05-15T05:46:28.242558",
     "status": "completed"
    },
    "tags": []
   },
   "outputs": [
    {
     "data": {
      "text/plain": [
       "Married\n",
       "Yes    0.651391\n",
       "No     0.348609\n",
       "Name: proportion, dtype: float64"
      ]
     },
     "execution_count": 54,
     "metadata": {},
     "output_type": "execute_result"
    }
   ],
   "source": [
    "train_df['Married'].value_counts(normalize=True)"
   ]
  },
  {
   "cell_type": "code",
   "execution_count": 55,
   "id": "f1c548b7",
   "metadata": {
    "papermill": {
     "duration": 0.049154,
     "end_time": "2023-05-15T05:46:28.370971",
     "exception": false,
     "start_time": "2023-05-15T05:46:28.321817",
     "status": "completed"
    },
    "tags": []
   },
   "outputs": [
    {
     "name": "stdout",
     "output_type": "stream",
     "text": [
      "For Male------->\n",
      "Loan_Status\n",
      "Y    0.71608\n",
      "N    0.28392\n",
      "Name: proportion, dtype: float64\n",
      "For Female------->\n",
      "Loan_Status\n",
      "Y    0.629108\n",
      "N    0.370892\n",
      "Name: proportion, dtype: float64\n"
     ]
    }
   ],
   "source": [
    "#Percentage of Loan approval for Married and Non-Married people\n",
    "\n",
    "Married_approval_percentage = train_df[train_df['Married']=='Yes']['Loan_Status'].value_counts(normalize=True)\n",
    "Non_Married_approval_percentage = train_df[train_df['Married']=='No']['Loan_Status'].value_counts(normalize=True)\n",
    "print('For Male------->')\n",
    "print(Married_approval_percentage)\n",
    "print('For Female------->')\n",
    "print(Non_Married_approval_percentage)"
   ]
  },
  {
   "cell_type": "code",
   "execution_count": 56,
   "id": "e781cd6c",
   "metadata": {
    "papermill": {
     "duration": 0.047268,
     "end_time": "2023-05-15T05:46:28.450064",
     "exception": false,
     "start_time": "2023-05-15T05:46:28.402796",
     "status": "completed"
    },
    "tags": []
   },
   "outputs": [
    {
     "data": {
      "text/plain": [
       "0      False\n",
       "1      False\n",
       "2       True\n",
       "3       True\n",
       "4      False\n",
       "       ...  \n",
       "609    False\n",
       "610     True\n",
       "611     True\n",
       "612     True\n",
       "613    False\n",
       "Length: 614, dtype: bool"
      ]
     },
     "execution_count": 56,
     "metadata": {},
     "output_type": "execute_result"
    }
   ],
   "source": [
    "(train_df['Married']=='Yes') & (train_df['Loan_Status']=='Y')"
   ]
  },
  {
   "cell_type": "markdown",
   "id": "6217fb72",
   "metadata": {
    "papermill": {
     "duration": 0.031288,
     "end_time": "2023-05-15T05:46:28.514148",
     "exception": false,
     "start_time": "2023-05-15T05:46:28.482860",
     "status": "completed"
    },
    "tags": []
   },
   "source": [
    "> *> *Here, data is implies that Married people are more likely to get approved for Loan.**"
   ]
  },
  {
   "cell_type": "code",
   "execution_count": 57,
   "id": "5c12e27b",
   "metadata": {
    "papermill": {
     "duration": 0.049437,
     "end_time": "2023-05-15T05:46:28.595384",
     "exception": false,
     "start_time": "2023-05-15T05:46:28.545947",
     "status": "completed"
    },
    "tags": []
   },
   "outputs": [
    {
     "data": {
      "text/plain": [
       "Gender\n",
       "Male      0.917563\n",
       "Female    0.082437\n",
       "Name: proportion, dtype: float64"
      ]
     },
     "execution_count": 57,
     "metadata": {},
     "output_type": "execute_result"
    }
   ],
   "source": [
    "train_df[(train_df['Married']=='Yes') & (train_df['Loan_Status']=='Y')]['Gender'].value_counts(normalize=True)"
   ]
  },
  {
   "cell_type": "code",
   "execution_count": 58,
   "id": "7857801f",
   "metadata": {
    "papermill": {
     "duration": 0.047981,
     "end_time": "2023-05-15T05:46:28.676647",
     "exception": false,
     "start_time": "2023-05-15T05:46:28.628666",
     "status": "completed"
    },
    "tags": []
   },
   "outputs": [
    {
     "data": {
      "text/plain": [
       "Gender\n",
       "Male      0.613636\n",
       "Female    0.386364\n",
       "Name: proportion, dtype: float64"
      ]
     },
     "execution_count": 58,
     "metadata": {},
     "output_type": "execute_result"
    }
   ],
   "source": [
    "train_df[(train_df['Married']=='No') & (train_df['Loan_Status']=='Y')]['Gender'].value_counts(normalize=True)"
   ]
  },
  {
   "cell_type": "markdown",
   "id": "d62195bd",
   "metadata": {
    "papermill": {
     "duration": 0.031551,
     "end_time": "2023-05-15T05:46:28.740296",
     "exception": false,
     "start_time": "2023-05-15T05:46:28.708745",
     "status": "completed"
    },
    "tags": []
   },
   "source": [
    "> *This dataset consist of ~81% Male, but for Married couple ~91% of loan taker are Male jumping from ~61% Male in Non Married Category.*"
   ]
  },
  {
   "cell_type": "code",
   "execution_count": 59,
   "id": "33293bcf",
   "metadata": {
    "papermill": {
     "duration": 0.058084,
     "end_time": "2023-05-15T05:46:28.830556",
     "exception": false,
     "start_time": "2023-05-15T05:46:28.772472",
     "status": "completed"
    },
    "tags": []
   },
   "outputs": [
    {
     "data": {
      "text/html": [
       "<div>\n",
       "<style scoped>\n",
       "    .dataframe tbody tr th:only-of-type {\n",
       "        vertical-align: middle;\n",
       "    }\n",
       "\n",
       "    .dataframe tbody tr th {\n",
       "        vertical-align: top;\n",
       "    }\n",
       "\n",
       "    .dataframe thead th {\n",
       "        text-align: right;\n",
       "    }\n",
       "</style>\n",
       "<table border=\"1\" class=\"dataframe\">\n",
       "  <thead>\n",
       "    <tr style=\"text-align: right;\">\n",
       "      <th></th>\n",
       "      <th>Loan_ID</th>\n",
       "      <th>Gender</th>\n",
       "      <th>Married</th>\n",
       "      <th>Dependents</th>\n",
       "      <th>Education</th>\n",
       "      <th>Self_Employed</th>\n",
       "      <th>ApplicantIncome</th>\n",
       "      <th>CoapplicantIncome</th>\n",
       "      <th>LoanAmount</th>\n",
       "      <th>Loan_Amount_Term</th>\n",
       "      <th>Credit_History</th>\n",
       "      <th>Property_Area</th>\n",
       "      <th>Loan_Status</th>\n",
       "    </tr>\n",
       "  </thead>\n",
       "  <tbody>\n",
       "    <tr>\n",
       "      <th>0</th>\n",
       "      <td>LP001002</td>\n",
       "      <td>Male</td>\n",
       "      <td>No</td>\n",
       "      <td>0</td>\n",
       "      <td>Graduate</td>\n",
       "      <td>No</td>\n",
       "      <td>5849</td>\n",
       "      <td>0.0</td>\n",
       "      <td>NaN</td>\n",
       "      <td>360.0</td>\n",
       "      <td>1.0</td>\n",
       "      <td>Urban</td>\n",
       "      <td>Y</td>\n",
       "    </tr>\n",
       "    <tr>\n",
       "      <th>1</th>\n",
       "      <td>LP001003</td>\n",
       "      <td>Male</td>\n",
       "      <td>Yes</td>\n",
       "      <td>1</td>\n",
       "      <td>Graduate</td>\n",
       "      <td>No</td>\n",
       "      <td>4583</td>\n",
       "      <td>1508.0</td>\n",
       "      <td>128.0</td>\n",
       "      <td>360.0</td>\n",
       "      <td>1.0</td>\n",
       "      <td>Rural</td>\n",
       "      <td>N</td>\n",
       "    </tr>\n",
       "    <tr>\n",
       "      <th>2</th>\n",
       "      <td>LP001005</td>\n",
       "      <td>Male</td>\n",
       "      <td>Yes</td>\n",
       "      <td>0</td>\n",
       "      <td>Graduate</td>\n",
       "      <td>Yes</td>\n",
       "      <td>3000</td>\n",
       "      <td>0.0</td>\n",
       "      <td>66.0</td>\n",
       "      <td>360.0</td>\n",
       "      <td>1.0</td>\n",
       "      <td>Urban</td>\n",
       "      <td>Y</td>\n",
       "    </tr>\n",
       "    <tr>\n",
       "      <th>3</th>\n",
       "      <td>LP001006</td>\n",
       "      <td>Male</td>\n",
       "      <td>Yes</td>\n",
       "      <td>0</td>\n",
       "      <td>Not Graduate</td>\n",
       "      <td>No</td>\n",
       "      <td>2583</td>\n",
       "      <td>2358.0</td>\n",
       "      <td>120.0</td>\n",
       "      <td>360.0</td>\n",
       "      <td>1.0</td>\n",
       "      <td>Urban</td>\n",
       "      <td>Y</td>\n",
       "    </tr>\n",
       "    <tr>\n",
       "      <th>4</th>\n",
       "      <td>LP001008</td>\n",
       "      <td>Male</td>\n",
       "      <td>No</td>\n",
       "      <td>0</td>\n",
       "      <td>Graduate</td>\n",
       "      <td>No</td>\n",
       "      <td>6000</td>\n",
       "      <td>0.0</td>\n",
       "      <td>141.0</td>\n",
       "      <td>360.0</td>\n",
       "      <td>1.0</td>\n",
       "      <td>Urban</td>\n",
       "      <td>Y</td>\n",
       "    </tr>\n",
       "  </tbody>\n",
       "</table>\n",
       "</div>"
      ],
      "text/plain": [
       "    Loan_ID Gender Married Dependents     Education Self_Employed   \n",
       "0  LP001002   Male      No          0      Graduate            No  \\\n",
       "1  LP001003   Male     Yes          1      Graduate            No   \n",
       "2  LP001005   Male     Yes          0      Graduate           Yes   \n",
       "3  LP001006   Male     Yes          0  Not Graduate            No   \n",
       "4  LP001008   Male      No          0      Graduate            No   \n",
       "\n",
       "   ApplicantIncome  CoapplicantIncome  LoanAmount  Loan_Amount_Term   \n",
       "0             5849                0.0         NaN             360.0  \\\n",
       "1             4583             1508.0       128.0             360.0   \n",
       "2             3000                0.0        66.0             360.0   \n",
       "3             2583             2358.0       120.0             360.0   \n",
       "4             6000                0.0       141.0             360.0   \n",
       "\n",
       "   Credit_History Property_Area Loan_Status  \n",
       "0             1.0         Urban           Y  \n",
       "1             1.0         Rural           N  \n",
       "2             1.0         Urban           Y  \n",
       "3             1.0         Urban           Y  \n",
       "4             1.0         Urban           Y  "
      ]
     },
     "execution_count": 59,
     "metadata": {},
     "output_type": "execute_result"
    }
   ],
   "source": [
    "train_df.head()"
   ]
  },
  {
   "cell_type": "code",
   "execution_count": 60,
   "id": "007392fb",
   "metadata": {
    "papermill": {
     "duration": 0.047411,
     "end_time": "2023-05-15T05:46:28.911124",
     "exception": false,
     "start_time": "2023-05-15T05:46:28.863713",
     "status": "completed"
    },
    "tags": []
   },
   "outputs": [
    {
     "data": {
      "text/plain": [
       "Education\n",
       "Graduate        0.781759\n",
       "Not Graduate    0.218241\n",
       "Name: proportion, dtype: float64"
      ]
     },
     "execution_count": 60,
     "metadata": {},
     "output_type": "execute_result"
    }
   ],
   "source": [
    "train_df['Education'].value_counts(normalize=True)"
   ]
  },
  {
   "cell_type": "code",
   "execution_count": 61,
   "id": "d07c95d3",
   "metadata": {
    "papermill": {
     "duration": 0.052504,
     "end_time": "2023-05-15T05:46:28.996192",
     "exception": false,
     "start_time": "2023-05-15T05:46:28.943688",
     "status": "completed"
    },
    "tags": []
   },
   "outputs": [
    {
     "name": "stdout",
     "output_type": "stream",
     "text": [
      "Loan_Status\n",
      "Y    0.708333\n",
      "N    0.291667\n",
      "Name: proportion, dtype: float64\n",
      "Loan_Status\n",
      "Y    0.61194\n",
      "N    0.38806\n",
      "Name: proportion, dtype: float64\n"
     ]
    }
   ],
   "source": [
    "Graduate_approval_percentage = train_df[train_df['Education']=='Graduate']['Loan_Status'].value_counts(normalize=True)\n",
    "Non_Graduate_approval_percentage = train_df[train_df['Education']=='Not Graduate']['Loan_Status'].value_counts(normalize=True)\n",
    "print(Graduate_approval_percentage)\n",
    "print(Non_Graduate_approval_percentage)"
   ]
  },
  {
   "cell_type": "markdown",
   "id": "49d11993",
   "metadata": {
    "papermill": {
     "duration": 0.032222,
     "end_time": "2023-05-15T05:46:29.062382",
     "exception": false,
     "start_time": "2023-05-15T05:46:29.030160",
     "status": "completed"
    },
    "tags": []
   },
   "source": [
    "> *Being a graduate, your Loan Approval percentage jumps by ~10%.*"
   ]
  },
  {
   "cell_type": "code",
   "execution_count": 62,
   "id": "b4573bdc",
   "metadata": {
    "papermill": {
     "duration": 0.23538,
     "end_time": "2023-05-15T05:46:29.330249",
     "exception": false,
     "start_time": "2023-05-15T05:46:29.094869",
     "status": "completed"
    },
    "tags": []
   },
   "outputs": [
    {
     "name": "stdout",
     "output_type": "stream",
     "text": [
      "Self_Employed\n",
      "No     500\n",
      "Yes     82\n",
      "Name: count, dtype: int64\n"
     ]
    },
    {
     "data": {
      "image/png": "[encoded data removed]",
      "text/plain": [
       "<Figure size 640x480 with 1 Axes>"
      ]
     },
     "metadata": {},
     "output_type": "display_data"
    }
   ],
   "source": [
    "sns.countplot(x='Self_Employed', data=train_df)\n",
    "print(train_df['Self_Employed'].value_counts())"
   ]
  },
  {
   "cell_type": "code",
   "execution_count": 63,
   "id": "fa508e3b",
   "metadata": {
    "papermill": {
     "duration": 0.240881,
     "end_time": "2023-05-15T05:46:29.604189",
     "exception": false,
     "start_time": "2023-05-15T05:46:29.363308",
     "status": "completed"
    },
    "tags": []
   },
   "outputs": [
    {
     "name": "stdout",
     "output_type": "stream",
     "text": [
      "Self Employed------>\n",
      "Loan_Status\n",
      "Y    0.682927\n",
      "N    0.317073\n",
      "Name: proportion, dtype: float64\n",
      "Self UnEmployed------>\n",
      "Loan_Status\n",
      "Y    0.686\n",
      "N    0.314\n",
      "Name: proportion, dtype: float64\n"
     ]
    },
    {
     "data": {
      "text/plain": [
       "<Axes: xlabel='Loan_Status', ylabel='count'>"
      ]
     },
     "execution_count": 63,
     "metadata": {},
     "output_type": "execute_result"
    },
    {
     "data": {
      "image/png": "[encoded data removed]",
      "text/plain": [
       "<Figure size 640x480 with 1 Axes>"
      ]
     },
     "metadata": {},
     "output_type": "display_data"
    }
   ],
   "source": [
    "Self_Employed = train_df[train_df['Self_Employed']=='Yes']\n",
    "Self_UnEmployed = train_df[train_df['Self_Employed']=='No']\n",
    "print('Self Employed------>')\n",
    "print(Self_Employed['Loan_Status'].value_counts(normalize=True))\n",
    "print('Self UnEmployed------>')\n",
    "print(Self_UnEmployed['Loan_Status'].value_counts(normalize=True))\n",
    "sns.countplot(x='Loan_Status', data=Self_Employed)\n"
   ]
  },
  {
   "cell_type": "code",
   "execution_count": 64,
   "id": "a062ac58",
   "metadata": {
    "papermill": {
     "duration": 0.244877,
     "end_time": "2023-05-15T05:46:29.882548",
     "exception": false,
     "start_time": "2023-05-15T05:46:29.637671",
     "status": "completed"
    },
    "tags": []
   },
   "outputs": [
    {
     "data": {
      "text/plain": [
       "<Axes: xlabel='Loan_Status', ylabel='count'>"
      ]
     },
     "execution_count": 64,
     "metadata": {},
     "output_type": "execute_result"
    },
    {
     "data": {
      "image/png": "[encoded data removed]",
      "text/plain": [
       "<Figure size 640x480 with 1 Axes>"
      ]
     },
     "metadata": {},
     "output_type": "display_data"
    }
   ],
   "source": [
    "sns.countplot(x='Loan_Status', data=Self_UnEmployed)"
   ]
  },
  {
   "cell_type": "markdown",
   "id": "eae5ca57",
   "metadata": {
    "papermill": {
     "duration": 0.034173,
     "end_time": "2023-05-15T05:46:29.950674",
     "exception": false,
     "start_time": "2023-05-15T05:46:29.916501",
     "status": "completed"
    },
    "tags": []
   },
   "source": [
    "> *Not much differnce approval acceptance whether one is Employed or not.*"
   ]
  },
  {
   "cell_type": "code",
   "execution_count": 65,
   "id": "ec611feb",
   "metadata": {
    "papermill": {
     "duration": 0.061657,
     "end_time": "2023-05-15T05:46:30.046286",
     "exception": false,
     "start_time": "2023-05-15T05:46:29.984629",
     "status": "completed"
    },
    "tags": []
   },
   "outputs": [
    {
     "data": {
      "text/html": [
       "<div>\n",
       "<style scoped>\n",
       "    .dataframe tbody tr th:only-of-type {\n",
       "        vertical-align: middle;\n",
       "    }\n",
       "\n",
       "    .dataframe tbody tr th {\n",
       "        vertical-align: top;\n",
       "    }\n",
       "\n",
       "    .dataframe thead th {\n",
       "        text-align: right;\n",
       "    }\n",
       "</style>\n",
       "<table border=\"1\" class=\"dataframe\">\n",
       "  <thead>\n",
       "    <tr style=\"text-align: right;\">\n",
       "      <th></th>\n",
       "      <th>Loan_ID</th>\n",
       "      <th>Gender</th>\n",
       "      <th>Married</th>\n",
       "      <th>Dependents</th>\n",
       "      <th>Education</th>\n",
       "      <th>Self_Employed</th>\n",
       "      <th>ApplicantIncome</th>\n",
       "      <th>CoapplicantIncome</th>\n",
       "      <th>LoanAmount</th>\n",
       "      <th>Loan_Amount_Term</th>\n",
       "      <th>Credit_History</th>\n",
       "      <th>Property_Area</th>\n",
       "      <th>Loan_Status</th>\n",
       "    </tr>\n",
       "  </thead>\n",
       "  <tbody>\n",
       "    <tr>\n",
       "      <th>0</th>\n",
       "      <td>LP001002</td>\n",
       "      <td>Male</td>\n",
       "      <td>No</td>\n",
       "      <td>0</td>\n",
       "      <td>Graduate</td>\n",
       "      <td>No</td>\n",
       "      <td>5849</td>\n",
       "      <td>0.0</td>\n",
       "      <td>NaN</td>\n",
       "      <td>360.0</td>\n",
       "      <td>1.0</td>\n",
       "      <td>Urban</td>\n",
       "      <td>Y</td>\n",
       "    </tr>\n",
       "    <tr>\n",
       "      <th>1</th>\n",
       "      <td>LP001003</td>\n",
       "      <td>Male</td>\n",
       "      <td>Yes</td>\n",
       "      <td>1</td>\n",
       "      <td>Graduate</td>\n",
       "      <td>No</td>\n",
       "      <td>4583</td>\n",
       "      <td>1508.0</td>\n",
       "      <td>128.0</td>\n",
       "      <td>360.0</td>\n",
       "      <td>1.0</td>\n",
       "      <td>Rural</td>\n",
       "      <td>N</td>\n",
       "    </tr>\n",
       "    <tr>\n",
       "      <th>2</th>\n",
       "      <td>LP001005</td>\n",
       "      <td>Male</td>\n",
       "      <td>Yes</td>\n",
       "      <td>0</td>\n",
       "      <td>Graduate</td>\n",
       "      <td>Yes</td>\n",
       "      <td>3000</td>\n",
       "      <td>0.0</td>\n",
       "      <td>66.0</td>\n",
       "      <td>360.0</td>\n",
       "      <td>1.0</td>\n",
       "      <td>Urban</td>\n",
       "      <td>Y</td>\n",
       "    </tr>\n",
       "    <tr>\n",
       "      <th>3</th>\n",
       "      <td>LP001006</td>\n",
       "      <td>Male</td>\n",
       "      <td>Yes</td>\n",
       "      <td>0</td>\n",
       "      <td>Not Graduate</td>\n",
       "      <td>No</td>\n",
       "      <td>2583</td>\n",
       "      <td>2358.0</td>\n",
       "      <td>120.0</td>\n",
       "      <td>360.0</td>\n",
       "      <td>1.0</td>\n",
       "      <td>Urban</td>\n",
       "      <td>Y</td>\n",
       "    </tr>\n",
       "    <tr>\n",
       "      <th>4</th>\n",
       "      <td>LP001008</td>\n",
       "      <td>Male</td>\n",
       "      <td>No</td>\n",
       "      <td>0</td>\n",
       "      <td>Graduate</td>\n",
       "      <td>No</td>\n",
       "      <td>6000</td>\n",
       "      <td>0.0</td>\n",
       "      <td>141.0</td>\n",
       "      <td>360.0</td>\n",
       "      <td>1.0</td>\n",
       "      <td>Urban</td>\n",
       "      <td>Y</td>\n",
       "    </tr>\n",
       "  </tbody>\n",
       "</table>\n",
       "</div>"
      ],
      "text/plain": [
       "    Loan_ID Gender Married Dependents     Education Self_Employed   \n",
       "0  LP001002   Male      No          0      Graduate            No  \\\n",
       "1  LP001003   Male     Yes          1      Graduate            No   \n",
       "2  LP001005   Male     Yes          0      Graduate           Yes   \n",
       "3  LP001006   Male     Yes          0  Not Graduate            No   \n",
       "4  LP001008   Male      No          0      Graduate            No   \n",
       "\n",
       "   ApplicantIncome  CoapplicantIncome  LoanAmount  Loan_Amount_Term   \n",
       "0             5849                0.0         NaN             360.0  \\\n",
       "1             4583             1508.0       128.0             360.0   \n",
       "2             3000                0.0        66.0             360.0   \n",
       "3             2583             2358.0       120.0             360.0   \n",
       "4             6000                0.0       141.0             360.0   \n",
       "\n",
       "   Credit_History Property_Area Loan_Status  \n",
       "0             1.0         Urban           Y  \n",
       "1             1.0         Rural           N  \n",
       "2             1.0         Urban           Y  \n",
       "3             1.0         Urban           Y  \n",
       "4             1.0         Urban           Y  "
      ]
     },
     "execution_count": 65,
     "metadata": {},
     "output_type": "execute_result"
    }
   ],
   "source": [
    "train_df.head()"
   ]
  },
  {
   "cell_type": "code",
   "execution_count": 66,
   "id": "15465c2f",
   "metadata": {
    "papermill": {
     "duration": 0.048526,
     "end_time": "2023-05-15T05:46:30.128859",
     "exception": false,
     "start_time": "2023-05-15T05:46:30.080333",
     "status": "completed"
    },
    "tags": []
   },
   "outputs": [
    {
     "data": {
      "text/plain": [
       "array([360., 120., 240.,  nan, 180.,  60., 300., 480.,  36.,  84.,  12.])"
      ]
     },
     "execution_count": 66,
     "metadata": {},
     "output_type": "execute_result"
    }
   ],
   "source": [
    "train_df['Loan_Amount_Term'].unique()"
   ]
  },
  {
   "cell_type": "markdown",
   "id": "9dde61b8",
   "metadata": {
    "papermill": {
     "duration": 0.036428,
     "end_time": "2023-05-15T05:46:30.204182",
     "exception": false,
     "start_time": "2023-05-15T05:46:30.167754",
     "status": "completed"
    },
    "tags": []
   },
   "source": [
    "> *Those Term are listed in months, i will be dividing by 12 so that it will be readable.*"
   ]
  },
  {
   "cell_type": "code",
   "execution_count": 67,
   "id": "d34120be",
   "metadata": {
    "papermill": {
     "duration": 0.045031,
     "end_time": "2023-05-15T05:46:30.284505",
     "exception": false,
     "start_time": "2023-05-15T05:46:30.239474",
     "status": "completed"
    },
    "tags": []
   },
   "outputs": [],
   "source": [
    "train_df['Loan_Amount_Term'] = train_df['Loan_Amount_Term']/12\n"
   ]
  },
  {
   "cell_type": "code",
   "execution_count": 68,
   "id": "0215c4ff",
   "metadata": {
    "papermill": {
     "duration": 0.051084,
     "end_time": "2023-05-15T05:46:30.370879",
     "exception": false,
     "start_time": "2023-05-15T05:46:30.319795",
     "status": "completed"
    },
    "tags": []
   },
   "outputs": [
    {
     "data": {
      "text/plain": [
       "Loan_Amount_Term\n",
       "30.0    512\n",
       "15.0     44\n",
       "40.0     15\n",
       "25.0     13\n",
       "20.0      4\n",
       "7.0       4\n",
       "10.0      3\n",
       "5.0       2\n",
       "3.0       2\n",
       "1.0       1\n",
       "Name: count, dtype: int64"
      ]
     },
     "execution_count": 68,
     "metadata": {},
     "output_type": "execute_result"
    }
   ],
   "source": [
    "train_df['Loan_Amount_Term'].value_counts()"
   ]
  },
  {
   "cell_type": "code",
   "execution_count": 69,
   "id": "2c2c181a",
   "metadata": {
    "papermill": {
     "duration": 0.048717,
     "end_time": "2023-05-15T05:46:30.454645",
     "exception": false,
     "start_time": "2023-05-15T05:46:30.405928",
     "status": "completed"
    },
    "tags": []
   },
   "outputs": [
    {
     "data": {
      "text/plain": [
       "Loan_Amount_Term\n",
       "30.0    0.853333\n",
       "15.0    0.073333\n",
       "40.0    0.025000\n",
       "25.0    0.021667\n",
       "20.0    0.006667\n",
       "7.0     0.006667\n",
       "10.0    0.005000\n",
       "5.0     0.003333\n",
       "3.0     0.003333\n",
       "1.0     0.001667\n",
       "Name: proportion, dtype: float64"
      ]
     },
     "execution_count": 69,
     "metadata": {},
     "output_type": "execute_result"
    }
   ],
   "source": [
    "train_df['Loan_Amount_Term'].value_counts(normalize=True)"
   ]
  },
  {
   "cell_type": "code",
   "execution_count": 70,
   "id": "33ac5248",
   "metadata": {
    "papermill": {
     "duration": 0.05514,
     "end_time": "2023-05-15T05:46:30.544335",
     "exception": false,
     "start_time": "2023-05-15T05:46:30.489195",
     "status": "completed"
    },
    "tags": []
   },
   "outputs": [
    {
     "data": {
      "text/plain": [
       "Loan_Amount_Term  Loan_Status\n",
       "1.0               Y              1.000000\n",
       "3.0               N              1.000000\n",
       "5.0               Y              1.000000\n",
       "7.0               Y              0.750000\n",
       "                  N              0.250000\n",
       "10.0              Y              1.000000\n",
       "15.0              Y              0.659091\n",
       "                  N              0.340909\n",
       "20.0              Y              0.750000\n",
       "                  N              0.250000\n",
       "25.0              Y              0.615385\n",
       "                  N              0.384615\n",
       "30.0              Y              0.701172\n",
       "                  N              0.298828\n",
       "40.0              N              0.600000\n",
       "                  Y              0.400000\n",
       "Name: proportion, dtype: float64"
      ]
     },
     "execution_count": 70,
     "metadata": {},
     "output_type": "execute_result"
    }
   ],
   "source": [
    "train_df.groupby('Loan_Amount_Term')['Loan_Status'].value_counts(normalize=True)"
   ]
  },
  {
   "cell_type": "code",
   "execution_count": 71,
   "id": "2c466556",
   "metadata": {
    "papermill": {
     "duration": 0.062513,
     "end_time": "2023-05-15T05:46:30.642468",
     "exception": false,
     "start_time": "2023-05-15T05:46:30.579955",
     "status": "completed"
    },
    "tags": []
   },
   "outputs": [
    {
     "data": {
      "text/html": [
       "<div>\n",
       "<style scoped>\n",
       "    .dataframe tbody tr th:only-of-type {\n",
       "        vertical-align: middle;\n",
       "    }\n",
       "\n",
       "    .dataframe tbody tr th {\n",
       "        vertical-align: top;\n",
       "    }\n",
       "\n",
       "    .dataframe thead th {\n",
       "        text-align: right;\n",
       "    }\n",
       "</style>\n",
       "<table border=\"1\" class=\"dataframe\">\n",
       "  <thead>\n",
       "    <tr style=\"text-align: right;\">\n",
       "      <th></th>\n",
       "      <th>Loan_ID</th>\n",
       "      <th>Gender</th>\n",
       "      <th>Married</th>\n",
       "      <th>Dependents</th>\n",
       "      <th>Education</th>\n",
       "      <th>Self_Employed</th>\n",
       "      <th>ApplicantIncome</th>\n",
       "      <th>CoapplicantIncome</th>\n",
       "      <th>LoanAmount</th>\n",
       "      <th>Loan_Amount_Term</th>\n",
       "      <th>Credit_History</th>\n",
       "      <th>Property_Area</th>\n",
       "      <th>Loan_Status</th>\n",
       "    </tr>\n",
       "  </thead>\n",
       "  <tbody>\n",
       "    <tr>\n",
       "      <th>0</th>\n",
       "      <td>LP001002</td>\n",
       "      <td>Male</td>\n",
       "      <td>No</td>\n",
       "      <td>0</td>\n",
       "      <td>Graduate</td>\n",
       "      <td>No</td>\n",
       "      <td>5849</td>\n",
       "      <td>0.0</td>\n",
       "      <td>NaN</td>\n",
       "      <td>30.0</td>\n",
       "      <td>1.0</td>\n",
       "      <td>Urban</td>\n",
       "      <td>Y</td>\n",
       "    </tr>\n",
       "    <tr>\n",
       "      <th>1</th>\n",
       "      <td>LP001003</td>\n",
       "      <td>Male</td>\n",
       "      <td>Yes</td>\n",
       "      <td>1</td>\n",
       "      <td>Graduate</td>\n",
       "      <td>No</td>\n",
       "      <td>4583</td>\n",
       "      <td>1508.0</td>\n",
       "      <td>128.0</td>\n",
       "      <td>30.0</td>\n",
       "      <td>1.0</td>\n",
       "      <td>Rural</td>\n",
       "      <td>N</td>\n",
       "    </tr>\n",
       "    <tr>\n",
       "      <th>2</th>\n",
       "      <td>LP001005</td>\n",
       "      <td>Male</td>\n",
       "      <td>Yes</td>\n",
       "      <td>0</td>\n",
       "      <td>Graduate</td>\n",
       "      <td>Yes</td>\n",
       "      <td>3000</td>\n",
       "      <td>0.0</td>\n",
       "      <td>66.0</td>\n",
       "      <td>30.0</td>\n",
       "      <td>1.0</td>\n",
       "      <td>Urban</td>\n",
       "      <td>Y</td>\n",
       "    </tr>\n",
       "    <tr>\n",
       "      <th>3</th>\n",
       "      <td>LP001006</td>\n",
       "      <td>Male</td>\n",
       "      <td>Yes</td>\n",
       "      <td>0</td>\n",
       "      <td>Not Graduate</td>\n",
       "      <td>No</td>\n",
       "      <td>2583</td>\n",
       "      <td>2358.0</td>\n",
       "      <td>120.0</td>\n",
       "      <td>30.0</td>\n",
       "      <td>1.0</td>\n",
       "      <td>Urban</td>\n",
       "      <td>Y</td>\n",
       "    </tr>\n",
       "    <tr>\n",
       "      <th>4</th>\n",
       "      <td>LP001008</td>\n",
       "      <td>Male</td>\n",
       "      <td>No</td>\n",
       "      <td>0</td>\n",
       "      <td>Graduate</td>\n",
       "      <td>No</td>\n",
       "      <td>6000</td>\n",
       "      <td>0.0</td>\n",
       "      <td>141.0</td>\n",
       "      <td>30.0</td>\n",
       "      <td>1.0</td>\n",
       "      <td>Urban</td>\n",
       "      <td>Y</td>\n",
       "    </tr>\n",
       "  </tbody>\n",
       "</table>\n",
       "</div>"
      ],
      "text/plain": [
       "    Loan_ID Gender Married Dependents     Education Self_Employed   \n",
       "0  LP001002   Male      No          0      Graduate            No  \\\n",
       "1  LP001003   Male     Yes          1      Graduate            No   \n",
       "2  LP001005   Male     Yes          0      Graduate           Yes   \n",
       "3  LP001006   Male     Yes          0  Not Graduate            No   \n",
       "4  LP001008   Male      No          0      Graduate            No   \n",
       "\n",
       "   ApplicantIncome  CoapplicantIncome  LoanAmount  Loan_Amount_Term   \n",
       "0             5849                0.0         NaN              30.0  \\\n",
       "1             4583             1508.0       128.0              30.0   \n",
       "2             3000                0.0        66.0              30.0   \n",
       "3             2583             2358.0       120.0              30.0   \n",
       "4             6000                0.0       141.0              30.0   \n",
       "\n",
       "   Credit_History Property_Area Loan_Status  \n",
       "0             1.0         Urban           Y  \n",
       "1             1.0         Rural           N  \n",
       "2             1.0         Urban           Y  \n",
       "3             1.0         Urban           Y  \n",
       "4             1.0         Urban           Y  "
      ]
     },
     "execution_count": 71,
     "metadata": {},
     "output_type": "execute_result"
    }
   ],
   "source": [
    "train_df.head()"
   ]
  },
  {
   "cell_type": "code",
   "execution_count": 72,
   "id": "de849f9c",
   "metadata": {
    "papermill": {
     "duration": 0.049323,
     "end_time": "2023-05-15T05:46:30.727361",
     "exception": false,
     "start_time": "2023-05-15T05:46:30.678038",
     "status": "completed"
    },
    "tags": []
   },
   "outputs": [
    {
     "data": {
      "text/plain": [
       "Credit_History\n",
       "1.0    0.842199\n",
       "0.0    0.157801\n",
       "Name: proportion, dtype: float64"
      ]
     },
     "execution_count": 72,
     "metadata": {},
     "output_type": "execute_result"
    }
   ],
   "source": [
    "train_df['Credit_History'].value_counts(normalize=True)"
   ]
  },
  {
   "cell_type": "code",
   "execution_count": 73,
   "id": "33a69724",
   "metadata": {
    "papermill": {
     "duration": 0.052435,
     "end_time": "2023-05-15T05:46:30.815822",
     "exception": false,
     "start_time": "2023-05-15T05:46:30.763387",
     "status": "completed"
    },
    "tags": []
   },
   "outputs": [
    {
     "data": {
      "text/plain": [
       "Credit_History  Loan_Status\n",
       "0.0             N              0.921348\n",
       "                Y              0.078652\n",
       "1.0             Y              0.795789\n",
       "                N              0.204211\n",
       "Name: proportion, dtype: float64"
      ]
     },
     "execution_count": 73,
     "metadata": {},
     "output_type": "execute_result"
    }
   ],
   "source": [
    "train_df.groupby('Credit_History')['Loan_Status'].value_counts(normalize=True)"
   ]
  },
  {
   "cell_type": "markdown",
   "id": "698640c5",
   "metadata": {
    "papermill": {
     "duration": 0.035985,
     "end_time": "2023-05-15T05:46:30.887287",
     "exception": false,
     "start_time": "2023-05-15T05:46:30.851302",
     "status": "completed"
    },
    "tags": []
   },
   "source": [
    "> *People who has good credit and has met guidelance has ~80% of receiving a loan.While if one has'nt paid to guidelines, one has only ~8% of getting a Loan.So credit history really plays an important role.*"
   ]
  },
  {
   "cell_type": "code",
   "execution_count": 74,
   "id": "3a8b479f",
   "metadata": {
    "papermill": {
     "duration": 0.049929,
     "end_time": "2023-05-15T05:46:30.973286",
     "exception": false,
     "start_time": "2023-05-15T05:46:30.923357",
     "status": "completed"
    },
    "tags": []
   },
   "outputs": [
    {
     "data": {
      "text/plain": [
       "Property_Area\n",
       "Semiurban    0.379479\n",
       "Urban        0.328990\n",
       "Rural        0.291531\n",
       "Name: proportion, dtype: float64"
      ]
     },
     "execution_count": 74,
     "metadata": {},
     "output_type": "execute_result"
    }
   ],
   "source": [
    "train_df['Property_Area'].value_counts(normalize=True)"
   ]
  },
  {
   "cell_type": "code",
   "execution_count": 75,
   "id": "e7d8dced",
   "metadata": {
    "papermill": {
     "duration": 0.05227,
     "end_time": "2023-05-15T05:46:31.062275",
     "exception": false,
     "start_time": "2023-05-15T05:46:31.010005",
     "status": "completed"
    },
    "tags": []
   },
   "outputs": [
    {
     "data": {
      "text/plain": [
       "Property_Area  Loan_Status\n",
       "Rural          Y              0.614525\n",
       "               N              0.385475\n",
       "Semiurban      Y              0.768240\n",
       "               N              0.231760\n",
       "Urban          Y              0.658416\n",
       "               N              0.341584\n",
       "Name: proportion, dtype: float64"
      ]
     },
     "execution_count": 75,
     "metadata": {},
     "output_type": "execute_result"
    }
   ],
   "source": [
    "train_df.groupby('Property_Area')['Loan_Status'].value_counts(normalize=True)"
   ]
  },
  {
   "cell_type": "markdown",
   "id": "e4bfc960",
   "metadata": {
    "papermill": {
     "duration": 0.03548,
     "end_time": "2023-05-15T05:46:31.133554",
     "exception": false,
     "start_time": "2023-05-15T05:46:31.098074",
     "status": "completed"
    },
    "tags": []
   },
   "source": [
    "> *According to RBI website: Based on the size of the population, a centre, where bank branch is located, is classified either into rural, semi-urban, urban, or metropolitan as under: Rural: population less than 10,000. Semi-Urban: 10,000 and above and less than 1 lakh. Urban: 1 lakh and above and less than 10 lakh.*"
   ]
  },
  {
   "cell_type": "markdown",
   "id": "9faed001",
   "metadata": {
    "papermill": {
     "duration": 0.035897,
     "end_time": "2023-05-15T05:46:31.205083",
     "exception": false,
     "start_time": "2023-05-15T05:46:31.169186",
     "status": "completed"
    },
    "tags": []
   },
   "source": [
    "> *Though Urban and SemiUrban has better loan acceptance rating, this could be due to the fact that Bank are more likely to give Loan and the dataset has more instances from Urban and SemiUrban.*"
   ]
  },
  {
   "cell_type": "code",
   "execution_count": 76,
   "id": "1e5b99b9",
   "metadata": {
    "papermill": {
     "duration": 1.182146,
     "end_time": "2023-05-15T05:46:32.424501",
     "exception": false,
     "start_time": "2023-05-15T05:46:31.242355",
     "status": "completed"
    },
    "tags": []
   },
   "outputs": [
    {
     "name": "stderr",
     "output_type": "stream",
     "text": [
      "C:\\Users\\VIKAS NAGAR\\anaconda3\\Lib\\site-packages\\seaborn\\axisgrid.py:118: UserWarning: The figure layout has changed to tight\n",
      "  self._figure.tight_layout(*args, **kwargs)\n"
     ]
    },
    {
     "data": {
      "text/plain": [
       "<seaborn.axisgrid.FacetGrid at 0x19e5a640ad0>"
      ]
     },
     "execution_count": 76,
     "metadata": {},
     "output_type": "execute_result"
    },
    {
     "data": {
      "image/png": "[encoded data removed]",
      "text/plain": [
       "<Figure size 1000x500 with 2 Axes>"
      ]
     },
     "metadata": {},
     "output_type": "display_data"
    }
   ],
   "source": [
    "sns.displot(x='ApplicantIncome', data=train_df, col='Loan_Status')"
   ]
  },
  {
   "cell_type": "code",
   "execution_count": 77,
   "id": "bdd46e4e",
   "metadata": {
    "papermill": {
     "duration": 0.062753,
     "end_time": "2023-05-15T05:46:32.524702",
     "exception": false,
     "start_time": "2023-05-15T05:46:32.461949",
     "status": "completed"
    },
    "tags": []
   },
   "outputs": [
    {
     "data": {
      "text/html": [
       "<div>\n",
       "<style scoped>\n",
       "    .dataframe tbody tr th:only-of-type {\n",
       "        vertical-align: middle;\n",
       "    }\n",
       "\n",
       "    .dataframe tbody tr th {\n",
       "        vertical-align: top;\n",
       "    }\n",
       "\n",
       "    .dataframe thead th {\n",
       "        text-align: right;\n",
       "    }\n",
       "</style>\n",
       "<table border=\"1\" class=\"dataframe\">\n",
       "  <thead>\n",
       "    <tr style=\"text-align: right;\">\n",
       "      <th></th>\n",
       "      <th>Loan_ID</th>\n",
       "      <th>Gender</th>\n",
       "      <th>Married</th>\n",
       "      <th>Dependents</th>\n",
       "      <th>Education</th>\n",
       "      <th>Self_Employed</th>\n",
       "      <th>ApplicantIncome</th>\n",
       "      <th>CoapplicantIncome</th>\n",
       "      <th>LoanAmount</th>\n",
       "      <th>Loan_Amount_Term</th>\n",
       "      <th>Credit_History</th>\n",
       "      <th>Property_Area</th>\n",
       "      <th>Loan_Status</th>\n",
       "    </tr>\n",
       "  </thead>\n",
       "  <tbody>\n",
       "    <tr>\n",
       "      <th>0</th>\n",
       "      <td>LP001002</td>\n",
       "      <td>Male</td>\n",
       "      <td>No</td>\n",
       "      <td>0</td>\n",
       "      <td>Graduate</td>\n",
       "      <td>No</td>\n",
       "      <td>5849</td>\n",
       "      <td>0.0</td>\n",
       "      <td>NaN</td>\n",
       "      <td>30.0</td>\n",
       "      <td>1.0</td>\n",
       "      <td>Urban</td>\n",
       "      <td>Y</td>\n",
       "    </tr>\n",
       "    <tr>\n",
       "      <th>1</th>\n",
       "      <td>LP001003</td>\n",
       "      <td>Male</td>\n",
       "      <td>Yes</td>\n",
       "      <td>1</td>\n",
       "      <td>Graduate</td>\n",
       "      <td>No</td>\n",
       "      <td>4583</td>\n",
       "      <td>1508.0</td>\n",
       "      <td>128.0</td>\n",
       "      <td>30.0</td>\n",
       "      <td>1.0</td>\n",
       "      <td>Rural</td>\n",
       "      <td>N</td>\n",
       "    </tr>\n",
       "    <tr>\n",
       "      <th>2</th>\n",
       "      <td>LP001005</td>\n",
       "      <td>Male</td>\n",
       "      <td>Yes</td>\n",
       "      <td>0</td>\n",
       "      <td>Graduate</td>\n",
       "      <td>Yes</td>\n",
       "      <td>3000</td>\n",
       "      <td>0.0</td>\n",
       "      <td>66.0</td>\n",
       "      <td>30.0</td>\n",
       "      <td>1.0</td>\n",
       "      <td>Urban</td>\n",
       "      <td>Y</td>\n",
       "    </tr>\n",
       "    <tr>\n",
       "      <th>3</th>\n",
       "      <td>LP001006</td>\n",
       "      <td>Male</td>\n",
       "      <td>Yes</td>\n",
       "      <td>0</td>\n",
       "      <td>Not Graduate</td>\n",
       "      <td>No</td>\n",
       "      <td>2583</td>\n",
       "      <td>2358.0</td>\n",
       "      <td>120.0</td>\n",
       "      <td>30.0</td>\n",
       "      <td>1.0</td>\n",
       "      <td>Urban</td>\n",
       "      <td>Y</td>\n",
       "    </tr>\n",
       "    <tr>\n",
       "      <th>4</th>\n",
       "      <td>LP001008</td>\n",
       "      <td>Male</td>\n",
       "      <td>No</td>\n",
       "      <td>0</td>\n",
       "      <td>Graduate</td>\n",
       "      <td>No</td>\n",
       "      <td>6000</td>\n",
       "      <td>0.0</td>\n",
       "      <td>141.0</td>\n",
       "      <td>30.0</td>\n",
       "      <td>1.0</td>\n",
       "      <td>Urban</td>\n",
       "      <td>Y</td>\n",
       "    </tr>\n",
       "  </tbody>\n",
       "</table>\n",
       "</div>"
      ],
      "text/plain": [
       "    Loan_ID Gender Married Dependents     Education Self_Employed   \n",
       "0  LP001002   Male      No          0      Graduate            No  \\\n",
       "1  LP001003   Male     Yes          1      Graduate            No   \n",
       "2  LP001005   Male     Yes          0      Graduate           Yes   \n",
       "3  LP001006   Male     Yes          0  Not Graduate            No   \n",
       "4  LP001008   Male      No          0      Graduate            No   \n",
       "\n",
       "   ApplicantIncome  CoapplicantIncome  LoanAmount  Loan_Amount_Term   \n",
       "0             5849                0.0         NaN              30.0  \\\n",
       "1             4583             1508.0       128.0              30.0   \n",
       "2             3000                0.0        66.0              30.0   \n",
       "3             2583             2358.0       120.0              30.0   \n",
       "4             6000                0.0       141.0              30.0   \n",
       "\n",
       "   Credit_History Property_Area Loan_Status  \n",
       "0             1.0         Urban           Y  \n",
       "1             1.0         Rural           N  \n",
       "2             1.0         Urban           Y  \n",
       "3             1.0         Urban           Y  \n",
       "4             1.0         Urban           Y  "
      ]
     },
     "execution_count": 77,
     "metadata": {},
     "output_type": "execute_result"
    }
   ],
   "source": [
    "train_df.head()"
   ]
  },
  {
   "cell_type": "code",
   "execution_count": 78,
   "id": "c7d95aa0",
   "metadata": {
    "papermill": {
     "duration": 0.051806,
     "end_time": "2023-05-15T05:46:32.614045",
     "exception": false,
     "start_time": "2023-05-15T05:46:32.562239",
     "status": "completed"
    },
    "tags": []
   },
   "outputs": [
    {
     "data": {
      "text/plain": [
       "Dependents\n",
       "0     0.575960\n",
       "1     0.170284\n",
       "2     0.168614\n",
       "3+    0.085142\n",
       "Name: proportion, dtype: float64"
      ]
     },
     "execution_count": 78,
     "metadata": {},
     "output_type": "execute_result"
    }
   ],
   "source": [
    "train_df['Dependents'].value_counts(normalize=True)"
   ]
  },
  {
   "cell_type": "code",
   "execution_count": 79,
   "id": "f0fce8bf",
   "metadata": {
    "papermill": {
     "duration": 0.05394,
     "end_time": "2023-05-15T05:46:32.704945",
     "exception": false,
     "start_time": "2023-05-15T05:46:32.651005",
     "status": "completed"
    },
    "tags": []
   },
   "outputs": [
    {
     "data": {
      "text/plain": [
       "Dependents  Loan_Status\n",
       "0           Y              0.689855\n",
       "            N              0.310145\n",
       "1           Y              0.647059\n",
       "            N              0.352941\n",
       "2           Y              0.752475\n",
       "            N              0.247525\n",
       "3+          Y              0.647059\n",
       "            N              0.352941\n",
       "Name: proportion, dtype: float64"
      ]
     },
     "execution_count": 79,
     "metadata": {},
     "output_type": "execute_result"
    }
   ],
   "source": [
    "train_df.groupby('Dependents')['Loan_Status'].value_counts(normalize=True)"
   ]
  },
  {
   "cell_type": "markdown",
   "id": "b86b101e",
   "metadata": {
    "papermill": {
     "duration": 0.036393,
     "end_time": "2023-05-15T05:46:32.778352",
     "exception": false,
     "start_time": "2023-05-15T05:46:32.741959",
     "status": "completed"
    },
    "tags": []
   },
   "source": [
    "> *No clearly indication that 'Dependents' effects Loan Status.*"
   ]
  },
  {
   "cell_type": "code",
   "execution_count": 81,
   "id": "6e525c2b",
   "metadata": {
    "papermill": {
     "duration": 0.359281,
     "end_time": "2023-05-15T05:46:33.271167",
     "exception": false,
     "start_time": "2023-05-15T05:46:32.911886",
     "status": "completed"
    },
    "tags": []
   },
   "outputs": [
    {
     "data": {
      "text/plain": [
       "<Axes: xlabel='ApplicantIncome', ylabel='LoanAmount'>"
      ]
     },
     "execution_count": 81,
     "metadata": {},
     "output_type": "execute_result"
    },
    {
     "data": {
      "image/png": "[encoded data removed]",
      "text/plain": [
       "<Figure size 640x480 with 1 Axes>"
      ]
     },
     "metadata": {},
     "output_type": "display_data"
    }
   ],
   "source": [
    "sns.scatterplot(x='ApplicantIncome', y='LoanAmount', data=train_df)"
   ]
  },
  {
   "cell_type": "code",
   "execution_count": 82,
   "id": "020738f1",
   "metadata": {
    "papermill": {
     "duration": 0.049353,
     "end_time": "2023-05-15T05:46:33.358706",
     "exception": false,
     "start_time": "2023-05-15T05:46:33.309353",
     "status": "completed"
    },
    "tags": []
   },
   "outputs": [
    {
     "data": {
      "text/plain": [
       "(614, 13)"
      ]
     },
     "execution_count": 82,
     "metadata": {},
     "output_type": "execute_result"
    }
   ],
   "source": [
    "train_df.shape"
   ]
  },
  {
   "cell_type": "code",
   "execution_count": 83,
   "id": "9a4c0f87",
   "metadata": {
    "papermill": {
     "duration": 0.279664,
     "end_time": "2023-05-15T05:46:33.677111",
     "exception": false,
     "start_time": "2023-05-15T05:46:33.397447",
     "status": "completed"
    },
    "tags": []
   },
   "outputs": [
    {
     "data": {
      "text/plain": [
       "0    480\n",
       "1    121\n",
       "2     11\n",
       "3      2\n",
       "Name: count, dtype: int64"
      ]
     },
     "execution_count": 83,
     "metadata": {},
     "output_type": "execute_result"
    },
    {
     "data": {
      "image/png": "[encoded data removed]",
      "text/plain": [
       "<Figure size 640x480 with 1 Axes>"
      ]
     },
     "metadata": {},
     "output_type": "display_data"
    }
   ],
   "source": [
    "#Checking missing values via row\n",
    "Row_with_missing_values = pd.DataFrame(train_df.isnull().sum(axis=1))\n",
    "Row_with_missing_values.value_counts().plot(kind='barh')\n",
    "Row_with_missing_values.value_counts()\n"
   ]
  },
  {
   "cell_type": "code",
   "execution_count": 84,
   "id": "1664fa6b",
   "metadata": {
    "papermill": {
     "duration": 0.263897,
     "end_time": "2023-05-15T05:46:33.979951",
     "exception": false,
     "start_time": "2023-05-15T05:46:33.716054",
     "status": "completed"
    },
    "tags": []
   },
   "outputs": [
    {
     "data": {
      "text/plain": [
       "0    289\n",
       "1     72\n",
       "2      6\n",
       "Name: count, dtype: int64"
      ]
     },
     "execution_count": 84,
     "metadata": {},
     "output_type": "execute_result"
    },
    {
     "data": {
      "image/png": "[encoded data removed]",
      "text/plain": [
       "<Figure size 640x480 with 1 Axes>"
      ]
     },
     "metadata": {},
     "output_type": "display_data"
    }
   ],
   "source": [
    "\n",
    "Row_with_missing_values = pd.DataFrame(test_df.isnull().sum(axis=1))\n",
    "Row_with_missing_values.value_counts().plot(kind='barh')\n",
    "Row_with_missing_values.value_counts()\n"
   ]
  },
  {
   "cell_type": "code",
   "execution_count": 85,
   "id": "b6a430a8",
   "metadata": {
    "papermill": {
     "duration": 0.055296,
     "end_time": "2023-05-15T05:46:34.075635",
     "exception": false,
     "start_time": "2023-05-15T05:46:34.020339",
     "status": "completed"
    },
    "tags": []
   },
   "outputs": [],
   "source": [
    "#Function for Checking Null Values of Dataset and showing graph \n",
    "\n",
    "\n",
    "def Null_Analysis(df):    \n",
    "    columns_with_nullValues =  df.columns[df.isnull().any()] \n",
    "    columns_with_nullValues_count=  df[columns_with_nullValues].isnull().sum() \n",
    "    columns_with_nullValues_count_percentage= df[columns_with_nullValues].isnull().sum() * 100 / df.shape[0] \n",
    "\n",
    "\n",
    "\n",
    "    NullValues_Result = pd.concat([columns_with_nullValues_count,columns_with_nullValues_count_percentage], axis=1,join='inner') \n",
    "    NullValues_Result.columns = ['Count', 'Percentage'] \n",
    "    NullValues_Result['Percentage'] = round(NullValues_Result['Percentage'],2) \n",
    "    NullValues_Result\n",
    "    return NullValues_Result\n",
    "    \n",
    "def Null_Analysis_Graph(df):\n",
    "    NullValues_Result= Null_Analysis(df)\n",
    "    NullValues_Result['Percentage'].hist(bins=10)\n",
    "    plt.xlabel('Missing Values Percentages')\n",
    "    plt.ylabel('Frequency')\n",
    "    plt.title('Histogram of Missing Values Percentages')\n",
    "    plt.show()\n"
   ]
  },
  {
   "cell_type": "code",
   "execution_count": 86,
   "id": "19f162f9",
   "metadata": {
    "papermill": {
     "duration": 0.064682,
     "end_time": "2023-05-15T05:46:34.179185",
     "exception": false,
     "start_time": "2023-05-15T05:46:34.114503",
     "status": "completed"
    },
    "tags": []
   },
   "outputs": [
    {
     "data": {
      "text/html": [
       "<div>\n",
       "<style scoped>\n",
       "    .dataframe tbody tr th:only-of-type {\n",
       "        vertical-align: middle;\n",
       "    }\n",
       "\n",
       "    .dataframe tbody tr th {\n",
       "        vertical-align: top;\n",
       "    }\n",
       "\n",
       "    .dataframe thead th {\n",
       "        text-align: right;\n",
       "    }\n",
       "</style>\n",
       "<table border=\"1\" class=\"dataframe\">\n",
       "  <thead>\n",
       "    <tr style=\"text-align: right;\">\n",
       "      <th></th>\n",
       "      <th>Count</th>\n",
       "      <th>Percentage</th>\n",
       "    </tr>\n",
       "  </thead>\n",
       "  <tbody>\n",
       "    <tr>\n",
       "      <th>Gender</th>\n",
       "      <td>13</td>\n",
       "      <td>2.12</td>\n",
       "    </tr>\n",
       "    <tr>\n",
       "      <th>Married</th>\n",
       "      <td>3</td>\n",
       "      <td>0.49</td>\n",
       "    </tr>\n",
       "    <tr>\n",
       "      <th>Dependents</th>\n",
       "      <td>15</td>\n",
       "      <td>2.44</td>\n",
       "    </tr>\n",
       "    <tr>\n",
       "      <th>Self_Employed</th>\n",
       "      <td>32</td>\n",
       "      <td>5.21</td>\n",
       "    </tr>\n",
       "    <tr>\n",
       "      <th>LoanAmount</th>\n",
       "      <td>22</td>\n",
       "      <td>3.58</td>\n",
       "    </tr>\n",
       "    <tr>\n",
       "      <th>Loan_Amount_Term</th>\n",
       "      <td>14</td>\n",
       "      <td>2.28</td>\n",
       "    </tr>\n",
       "    <tr>\n",
       "      <th>Credit_History</th>\n",
       "      <td>50</td>\n",
       "      <td>8.14</td>\n",
       "    </tr>\n",
       "  </tbody>\n",
       "</table>\n",
       "</div>"
      ],
      "text/plain": [
       "                  Count  Percentage\n",
       "Gender               13        2.12\n",
       "Married               3        0.49\n",
       "Dependents           15        2.44\n",
       "Self_Employed        32        5.21\n",
       "LoanAmount           22        3.58\n",
       "Loan_Amount_Term     14        2.28\n",
       "Credit_History       50        8.14"
      ]
     },
     "execution_count": 86,
     "metadata": {},
     "output_type": "execute_result"
    }
   ],
   "source": [
    "Null_Analysis(train_df)"
   ]
  },
  {
   "cell_type": "markdown",
   "id": "fc1094c9",
   "metadata": {
    "papermill": {
     "duration": 0.038651,
     "end_time": "2023-05-15T05:46:34.256813",
     "exception": false,
     "start_time": "2023-05-15T05:46:34.218162",
     "status": "completed"
    },
    "tags": []
   },
   "source": [
    "> *Note that training dataset has 614 instances and 13 features(including target variable).*"
   ]
  },
  {
   "cell_type": "code",
   "execution_count": 87,
   "id": "7c6c9099",
   "metadata": {
    "papermill": {
     "duration": 0.300681,
     "end_time": "2023-05-15T05:46:34.596346",
     "exception": false,
     "start_time": "2023-05-15T05:46:34.295665",
     "status": "completed"
    },
    "tags": []
   },
   "outputs": [
    {
     "data": {
      "image/png": "[encoded data removed]",
      "text/plain": [
       "<Figure size 640x480 with 1 Axes>"
      ]
     },
     "metadata": {},
     "output_type": "display_data"
    }
   ],
   "source": [
    "Null_Analysis_Graph(train_df)"
   ]
  },
  {
   "cell_type": "code",
   "execution_count": 88,
   "id": "8bf326c1",
   "metadata": {
    "papermill": {
     "duration": 0.064441,
     "end_time": "2023-05-15T05:46:34.700547",
     "exception": false,
     "start_time": "2023-05-15T05:46:34.636106",
     "status": "completed"
    },
    "tags": []
   },
   "outputs": [
    {
     "data": {
      "text/html": [
       "<div>\n",
       "<style scoped>\n",
       "    .dataframe tbody tr th:only-of-type {\n",
       "        vertical-align: middle;\n",
       "    }\n",
       "\n",
       "    .dataframe tbody tr th {\n",
       "        vertical-align: top;\n",
       "    }\n",
       "\n",
       "    .dataframe thead th {\n",
       "        text-align: right;\n",
       "    }\n",
       "</style>\n",
       "<table border=\"1\" class=\"dataframe\">\n",
       "  <thead>\n",
       "    <tr style=\"text-align: right;\">\n",
       "      <th></th>\n",
       "      <th>Count</th>\n",
       "      <th>Percentage</th>\n",
       "    </tr>\n",
       "  </thead>\n",
       "  <tbody>\n",
       "    <tr>\n",
       "      <th>Gender</th>\n",
       "      <td>11</td>\n",
       "      <td>3.00</td>\n",
       "    </tr>\n",
       "    <tr>\n",
       "      <th>Dependents</th>\n",
       "      <td>10</td>\n",
       "      <td>2.72</td>\n",
       "    </tr>\n",
       "    <tr>\n",
       "      <th>Self_Employed</th>\n",
       "      <td>23</td>\n",
       "      <td>6.27</td>\n",
       "    </tr>\n",
       "    <tr>\n",
       "      <th>LoanAmount</th>\n",
       "      <td>5</td>\n",
       "      <td>1.36</td>\n",
       "    </tr>\n",
       "    <tr>\n",
       "      <th>Loan_Amount_Term</th>\n",
       "      <td>6</td>\n",
       "      <td>1.63</td>\n",
       "    </tr>\n",
       "    <tr>\n",
       "      <th>Credit_History</th>\n",
       "      <td>29</td>\n",
       "      <td>7.90</td>\n",
       "    </tr>\n",
       "  </tbody>\n",
       "</table>\n",
       "</div>"
      ],
      "text/plain": [
       "                  Count  Percentage\n",
       "Gender               11        3.00\n",
       "Dependents           10        2.72\n",
       "Self_Employed        23        6.27\n",
       "LoanAmount            5        1.36\n",
       "Loan_Amount_Term      6        1.63\n",
       "Credit_History       29        7.90"
      ]
     },
     "execution_count": 88,
     "metadata": {},
     "output_type": "execute_result"
    }
   ],
   "source": [
    "Null_Analysis(test_df)"
   ]
  },
  {
   "cell_type": "markdown",
   "id": "d5af9ab7",
   "metadata": {
    "papermill": {
     "duration": 0.040187,
     "end_time": "2023-05-15T05:46:34.781395",
     "exception": false,
     "start_time": "2023-05-15T05:46:34.741208",
     "status": "completed"
    },
    "tags": []
   },
   "source": [
    ">*Note that testing instance has 367 instances.*"
   ]
  },
  {
   "cell_type": "code",
   "execution_count": 89,
   "id": "96d129ec",
   "metadata": {
    "papermill": {
     "duration": 0.309185,
     "end_time": "2023-05-15T05:46:35.130159",
     "exception": false,
     "start_time": "2023-05-15T05:46:34.820974",
     "status": "completed"
    },
    "tags": []
   },
   "outputs": [
    {
     "data": {
      "image/png": "[encoded data removed]",
      "text/plain": [
       "<Figure size 640x480 with 1 Axes>"
      ]
     },
     "metadata": {},
     "output_type": "display_data"
    }
   ],
   "source": [
    "Null_Analysis_Graph(test_df)"
   ]
  },
  {
   "cell_type": "code",
   "execution_count": 90,
   "id": "f7baf46e",
   "metadata": {
    "papermill": {
     "duration": 0.068663,
     "end_time": "2023-05-15T05:46:35.241005",
     "exception": false,
     "start_time": "2023-05-15T05:46:35.172342",
     "status": "completed"
    },
    "tags": []
   },
   "outputs": [
    {
     "data": {
      "text/html": [
       "<div>\n",
       "<style scoped>\n",
       "    .dataframe tbody tr th:only-of-type {\n",
       "        vertical-align: middle;\n",
       "    }\n",
       "\n",
       "    .dataframe tbody tr th {\n",
       "        vertical-align: top;\n",
       "    }\n",
       "\n",
       "    .dataframe thead th {\n",
       "        text-align: right;\n",
       "    }\n",
       "</style>\n",
       "<table border=\"1\" class=\"dataframe\">\n",
       "  <thead>\n",
       "    <tr style=\"text-align: right;\">\n",
       "      <th></th>\n",
       "      <th>Count</th>\n",
       "      <th>Percentage</th>\n",
       "    </tr>\n",
       "  </thead>\n",
       "  <tbody>\n",
       "    <tr>\n",
       "      <th>Gender</th>\n",
       "      <td>13</td>\n",
       "      <td>2.12</td>\n",
       "    </tr>\n",
       "    <tr>\n",
       "      <th>Married</th>\n",
       "      <td>3</td>\n",
       "      <td>0.49</td>\n",
       "    </tr>\n",
       "    <tr>\n",
       "      <th>Dependents</th>\n",
       "      <td>15</td>\n",
       "      <td>2.44</td>\n",
       "    </tr>\n",
       "    <tr>\n",
       "      <th>Self_Employed</th>\n",
       "      <td>32</td>\n",
       "      <td>5.21</td>\n",
       "    </tr>\n",
       "    <tr>\n",
       "      <th>LoanAmount</th>\n",
       "      <td>22</td>\n",
       "      <td>3.58</td>\n",
       "    </tr>\n",
       "    <tr>\n",
       "      <th>Loan_Amount_Term</th>\n",
       "      <td>14</td>\n",
       "      <td>2.28</td>\n",
       "    </tr>\n",
       "    <tr>\n",
       "      <th>Credit_History</th>\n",
       "      <td>50</td>\n",
       "      <td>8.14</td>\n",
       "    </tr>\n",
       "  </tbody>\n",
       "</table>\n",
       "</div>"
      ],
      "text/plain": [
       "                  Count  Percentage\n",
       "Gender               13        2.12\n",
       "Married               3        0.49\n",
       "Dependents           15        2.44\n",
       "Self_Employed        32        5.21\n",
       "LoanAmount           22        3.58\n",
       "Loan_Amount_Term     14        2.28\n",
       "Credit_History       50        8.14"
      ]
     },
     "execution_count": 90,
     "metadata": {},
     "output_type": "execute_result"
    }
   ],
   "source": [
    "Null_Analysis(train_df)"
   ]
  },
  {
   "cell_type": "code",
   "execution_count": 91,
   "id": "024877b0",
   "metadata": {
    "papermill": {
     "duration": 0.054335,
     "end_time": "2023-05-15T05:46:35.336347",
     "exception": false,
     "start_time": "2023-05-15T05:46:35.282012",
     "status": "completed"
    },
    "tags": []
   },
   "outputs": [
    {
     "data": {
      "text/plain": [
       "Credit_History\n",
       "1.0    475\n",
       "0.0     89\n",
       "Name: count, dtype: int64"
      ]
     },
     "execution_count": 91,
     "metadata": {},
     "output_type": "execute_result"
    }
   ],
   "source": [
    "train_df['Credit_History'].value_counts()"
   ]
  },
  {
   "cell_type": "code",
   "execution_count": 92,
   "id": "652a0eda",
   "metadata": {
    "papermill": {
     "duration": 0.951763,
     "end_time": "2023-05-15T05:46:36.328478",
     "exception": false,
     "start_time": "2023-05-15T05:46:35.376715",
     "status": "completed"
    },
    "tags": []
   },
   "outputs": [
    {
     "name": "stderr",
     "output_type": "stream",
     "text": [
      "C:\\Users\\VIKAS NAGAR\\anaconda3\\Lib\\site-packages\\seaborn\\axisgrid.py:118: UserWarning: The figure layout has changed to tight\n",
      "  self._figure.tight_layout(*args, **kwargs)\n"
     ]
    },
    {
     "data": {
      "text/plain": [
       "<seaborn.axisgrid.FacetGrid at 0x19e5b244190>"
      ]
     },
     "execution_count": 92,
     "metadata": {},
     "output_type": "execute_result"
    },
    {
     "data": {
      "image/png": "[encoded data removed]",
      "text/plain": [
       "<Figure size 1000x500 with 2 Axes>"
      ]
     },
     "metadata": {},
     "output_type": "display_data"
    }
   ],
   "source": [
    "sns.displot(x='LoanAmount', data=train_df, col='Loan_Status')"
   ]
  },
  {
   "cell_type": "code",
   "execution_count": 93,
   "id": "4f2930de",
   "metadata": {
    "papermill": {
     "duration": 0.245735,
     "end_time": "2023-05-15T05:46:36.615347",
     "exception": false,
     "start_time": "2023-05-15T05:46:36.369612",
     "status": "completed"
    },
    "tags": []
   },
   "outputs": [
    {
     "data": {
      "text/plain": [
       "<Axes: xlabel='LoanAmount'>"
      ]
     },
     "execution_count": 93,
     "metadata": {},
     "output_type": "execute_result"
    },
    {
     "data": {
      "image/png": "[encoded data removed]",
      "text/plain": [
       "<Figure size 640x480 with 1 Axes>"
      ]
     },
     "metadata": {},
     "output_type": "display_data"
    }
   ],
   "source": [
    "sns.boxplot(x='LoanAmount', data=train_df)"
   ]
  },
  {
   "cell_type": "code",
   "execution_count": 94,
   "id": "6e02033f",
   "metadata": {
    "papermill": {
     "duration": 0.059847,
     "end_time": "2023-05-15T05:46:36.717375",
     "exception": false,
     "start_time": "2023-05-15T05:46:36.657528",
     "status": "completed"
    },
    "tags": []
   },
   "outputs": [
    {
     "data": {
      "text/plain": [
       "count    592.000000\n",
       "mean     146.412162\n",
       "std       85.587325\n",
       "min        9.000000\n",
       "25%      100.000000\n",
       "50%      128.000000\n",
       "75%      168.000000\n",
       "max      700.000000\n",
       "Name: LoanAmount, dtype: float64"
      ]
     },
     "execution_count": 94,
     "metadata": {},
     "output_type": "execute_result"
    }
   ],
   "source": [
    "train_df['LoanAmount'].describe()"
   ]
  },
  {
   "cell_type": "markdown",
   "id": "5a7ed4ac",
   "metadata": {
    "papermill": {
     "duration": 0.04089,
     "end_time": "2023-05-15T05:46:36.800847",
     "exception": false,
     "start_time": "2023-05-15T05:46:36.759957",
     "status": "completed"
    },
    "tags": []
   },
   "source": [
    "> *Note that this 'LoanAmount' listed are in thousands.*"
   ]
  },
  {
   "cell_type": "markdown",
   "id": "072ad57a",
   "metadata": {
    "papermill": {
     "duration": 0.041367,
     "end_time": "2023-05-15T05:46:36.884720",
     "exception": false,
     "start_time": "2023-05-15T05:46:36.843353",
     "status": "completed"
    },
    "tags": []
   },
   "source": [
    "# > *EDA implications*"
   ]
  },
  {
   "cell_type": "markdown",
   "id": "68c213d6",
   "metadata": {
    "papermill": {
     "duration": 0.041453,
     "end_time": "2023-05-15T05:46:36.968506",
     "exception": false,
     "start_time": "2023-05-15T05:46:36.927053",
     "status": "completed"
    },
    "tags": []
   },
   "source": [
    "> *1.So there were more loan approved than loan rejection.\\\n",
    "2.Statistically, Gender does'nt effect your loan approval chances.\\\n",
    "3.There were more Male than Female asking for Loan.\\\n",
    "4.Here, data is implies that Married people are more likely to get approved for Loan.\\\n",
    "5.This dataset consist of ~81% Male, but for Married couple ~91% of loan taker are Male jumping from ~61% Male in Non Married Category.\\\n",
    "6.Being a graduate, your Loan Approval percentage jumps by ~10%.\\\n",
    "7.Not much differnce approval acceptance whether one is Employed or not.\\\n",
    "8.People who has good credit and has met guidelance has ~80% of receiving a loan.While if one has'nt paid to guidelines, one has only ~8% of getting a Loan.So credit history really plays an important role.\\\n",
    "9.Though Urban and SemiUrban has better loan acceptance rating, this could be due to the fact that Bank are more likely to give Loan and the dataset has more instances from Urban and SemiUrban.\\\n",
    "10.No clearly indication that 'Dependents' effects Loan Status.*"
   ]
  },
  {
   "cell_type": "code",
   "execution_count": 95,
   "id": "3261cebf",
   "metadata": {
    "papermill": {
     "duration": 0.068889,
     "end_time": "2023-05-15T05:46:37.079166",
     "exception": false,
     "start_time": "2023-05-15T05:46:37.010277",
     "status": "completed"
    },
    "tags": []
   },
   "outputs": [
    {
     "name": "stdout",
     "output_type": "stream",
     "text": [
      "<class 'pandas.core.frame.DataFrame'>\n",
      "RangeIndex: 614 entries, 0 to 613\n",
      "Data columns (total 13 columns):\n",
      " #   Column             Non-Null Count  Dtype  \n",
      "---  ------             --------------  -----  \n",
      " 0   Loan_ID            614 non-null    object \n",
      " 1   Gender             601 non-null    object \n",
      " 2   Married            611 non-null    object \n",
      " 3   Dependents         599 non-null    object \n",
      " 4   Education          614 non-null    object \n",
      " 5   Self_Employed      582 non-null    object \n",
      " 6   ApplicantIncome    614 non-null    int64  \n",
      " 7   CoapplicantIncome  614 non-null    float64\n",
      " 8   LoanAmount         592 non-null    float64\n",
      " 9   Loan_Amount_Term   600 non-null    float64\n",
      " 10  Credit_History     564 non-null    float64\n",
      " 11  Property_Area      614 non-null    object \n",
      " 12  Loan_Status        614 non-null    object \n",
      "dtypes: float64(4), int64(1), object(8)\n",
      "memory usage: 62.5+ KB\n"
     ]
    }
   ],
   "source": [
    "train_df.info()"
   ]
  },
  {
   "cell_type": "code",
   "execution_count": 96,
   "id": "c2251fd7",
   "metadata": {
    "papermill": {
     "duration": 0.074838,
     "end_time": "2023-05-15T05:46:37.197265",
     "exception": false,
     "start_time": "2023-05-15T05:46:37.122427",
     "status": "completed"
    },
    "tags": []
   },
   "outputs": [],
   "source": [
    "#Filling missing values\n",
    "\n",
    "train_df['Gender'].fillna(train_df['Gender'].mode()[0], inplace=True)\n",
    "train_df['Married'].fillna(train_df['Married'].mode()[0], inplace=True)\n",
    "train_df['Dependents'].fillna(train_df['Dependents'].mode()[0], inplace=True)\n",
    "train_df['Self_Employed'].fillna(train_df['Self_Employed'].mode()[0], inplace=True)\n",
    "train_df['LoanAmount'].fillna(train_df['LoanAmount'].median(), inplace=True)\n",
    "train_df['Loan_Amount_Term'].fillna(train_df['Loan_Amount_Term'].median(), inplace=True)\n",
    "train_df['Credit_History'].fillna(train_df['Credit_History'].median(), inplace=True)\n",
    "\n",
    "test_df['Gender'].fillna(train_df['Gender'].mode()[0], inplace=True)\n",
    "test_df['Dependents'].fillna(train_df['Dependents'].mode()[0], inplace=True)\n",
    "test_df['Self_Employed'].fillna(train_df['Self_Employed'].mode()[0], inplace=True)\n",
    "test_df['LoanAmount'].fillna(train_df['LoanAmount'].median(), inplace=True)\n",
    "test_df['Loan_Amount_Term'].fillna(train_df['Loan_Amount_Term'].median(), inplace=True)\n",
    "test_df['Credit_History'].fillna(train_df['Credit_History'].median(), inplace=True)\n"
   ]
  },
  {
   "cell_type": "code",
   "execution_count": 97,
   "id": "dbe80222",
   "metadata": {
    "papermill": {
     "duration": 0.056079,
     "end_time": "2023-05-15T05:46:37.302453",
     "exception": false,
     "start_time": "2023-05-15T05:46:37.246374",
     "status": "completed"
    },
    "tags": []
   },
   "outputs": [
    {
     "data": {
      "text/plain": [
       "0"
      ]
     },
     "execution_count": 97,
     "metadata": {},
     "output_type": "execute_result"
    }
   ],
   "source": [
    "test_df.isnull().sum().sum()"
   ]
  },
  {
   "cell_type": "code",
   "execution_count": 98,
   "id": "20611785",
   "metadata": {
    "papermill": {
     "duration": 0.056414,
     "end_time": "2023-05-15T05:46:37.401100",
     "exception": false,
     "start_time": "2023-05-15T05:46:37.344686",
     "status": "completed"
    },
    "tags": []
   },
   "outputs": [
    {
     "data": {
      "text/plain": [
       "0"
      ]
     },
     "execution_count": 98,
     "metadata": {},
     "output_type": "execute_result"
    }
   ],
   "source": [
    "train_df.isnull().sum().sum()"
   ]
  },
  {
   "cell_type": "code",
   "execution_count": 99,
   "id": "c3fb09e8",
   "metadata": {
    "papermill": {
     "duration": 0.061018,
     "end_time": "2023-05-15T05:46:37.505498",
     "exception": false,
     "start_time": "2023-05-15T05:46:37.444480",
     "status": "completed"
    },
    "tags": []
   },
   "outputs": [
    {
     "name": "stdout",
     "output_type": "stream",
     "text": [
      "No of Integer type columns: 1\n",
      "No of Float type columns: 4\n",
      "No of String type columns: 8\n"
     ]
    }
   ],
   "source": [
    "# store columns with specific data type\n",
    "integer_columns = train_df.select_dtypes(include=['int64']).columns\n",
    "float_columns = train_df.select_dtypes(include=['float64']).columns\n",
    "object_columns = train_df.select_dtypes(include=['object']).columns\n",
    "\n",
    "print(\"No of Integer type columns: {}\".format(len(integer_columns)))\n",
    "print(\"No of Float type columns: {}\".format(len(float_columns)))\n",
    "print(\"No of String type columns: {}\".format(len(object_columns)))"
   ]
  },
  {
   "cell_type": "code",
   "execution_count": 100,
   "id": "11d36436",
   "metadata": {
    "papermill": {
     "duration": 0.053577,
     "end_time": "2023-05-15T05:46:37.602450",
     "exception": false,
     "start_time": "2023-05-15T05:46:37.548873",
     "status": "completed"
    },
    "tags": []
   },
   "outputs": [],
   "source": [
    "\n",
    "object_columns = list(object_columns)\n",
    "object_columns.remove('Loan_ID')\n",
    "object_columns.remove('Loan_Status')"
   ]
  },
  {
   "cell_type": "code",
   "execution_count": 101,
   "id": "d93ccca0",
   "metadata": {
    "papermill": {
     "duration": 0.052996,
     "end_time": "2023-05-15T05:46:37.698504",
     "exception": false,
     "start_time": "2023-05-15T05:46:37.645508",
     "status": "completed"
    },
    "tags": []
   },
   "outputs": [
    {
     "name": "stdout",
     "output_type": "stream",
     "text": [
      "['Gender', 'Married', 'Dependents', 'Education', 'Self_Employed', 'Property_Area']\n"
     ]
    }
   ],
   "source": [
    "print(object_columns)"
   ]
  },
  {
   "cell_type": "code",
   "execution_count": 102,
   "id": "83c2a716",
   "metadata": {
    "papermill": {
     "duration": 0.0568,
     "end_time": "2023-05-15T05:46:37.797534",
     "exception": false,
     "start_time": "2023-05-15T05:46:37.740734",
     "status": "completed"
    },
    "tags": []
   },
   "outputs": [
    {
     "name": "stdout",
     "output_type": "stream",
     "text": [
      "['Male' 'Female']\n",
      "['Male' 'Female']\n",
      "['No' 'Yes']\n",
      "['Yes' 'No']\n",
      "['0' '1' '2' '3+']\n",
      "['0' '1' '2' '3+']\n",
      "['Graduate' 'Not Graduate']\n",
      "['Graduate' 'Not Graduate']\n",
      "['No' 'Yes']\n",
      "['No' 'Yes']\n",
      "['Urban' 'Rural' 'Semiurban']\n",
      "['Urban' 'Semiurban' 'Rural']\n"
     ]
    }
   ],
   "source": [
    "#Checking if Test Data Set has any values in categorical features which is not present in Training Data Set\n",
    "\n",
    "for object_col in object_columns:\n",
    "    print(train_df[object_col].unique())\n",
    "    print(test_df[object_col].unique())"
   ]
  },
  {
   "cell_type": "markdown",
   "id": "73fd8eec",
   "metadata": {
    "papermill": {
     "duration": 0.043365,
     "end_time": "2023-05-15T05:46:37.883710",
     "exception": false,
     "start_time": "2023-05-15T05:46:37.840345",
     "status": "completed"
    },
    "tags": []
   },
   "source": [
    "> *Clear*"
   ]
  },
  {
   "cell_type": "code",
   "execution_count": 103,
   "id": "b42e12a1",
   "metadata": {
    "papermill": {
     "duration": 0.074655,
     "end_time": "2023-05-15T05:46:38.004947",
     "exception": false,
     "start_time": "2023-05-15T05:46:37.930292",
     "status": "completed"
    },
    "tags": []
   },
   "outputs": [],
   "source": [
    "#Modifying some values in Features\n",
    "\n",
    "train_df['Dependents'] = train_df['Dependents'].replace(['3+'],['3'])\n",
    "test_df['Dependents'] = test_df['Dependents'].replace(['3+'],['3'])\n",
    "train_df['Dependents'] = train_df['Dependents'].astype('int64')\n",
    "test_df['Dependents'] = test_df['Dependents'].astype('int64')\n",
    "\n",
    "train_df['Gender'] = train_df['Gender'].replace(['Male','Female'],[1,0])\n",
    "test_df['Gender'] = test_df['Gender'].replace(['Male','Female'],[1,0])\n",
    "\n",
    "train_df['Married'] = train_df['Married'].replace(['Yes','No'],[1,0])\n",
    "test_df['Married'] = test_df['Married'].replace(['Yes','No'],[1,0])\n",
    "\n",
    "train_df['Education'] = train_df['Education'].replace(['Graduate','Not Graduate'],[1,0])\n",
    "test_df['Education'] = test_df['Education'].replace(['Graduate','Not Graduate'],[1,0])\n",
    "\n",
    "train_df['Self_Employed'] = train_df['Self_Employed'].replace(['Yes','No'],[1,0])\n",
    "test_df['Self_Employed'] = test_df['Self_Employed'].replace(['Yes','No'],[1,0])\n",
    "\n",
    "\n"
   ]
  },
  {
   "cell_type": "code",
   "execution_count": 104,
   "id": "2d11a5f1",
   "metadata": {
    "papermill": {
     "duration": 0.068007,
     "end_time": "2023-05-15T05:46:38.115457",
     "exception": false,
     "start_time": "2023-05-15T05:46:38.047450",
     "status": "completed"
    },
    "tags": []
   },
   "outputs": [
    {
     "data": {
      "text/html": [
       "<div>\n",
       "<style scoped>\n",
       "    .dataframe tbody tr th:only-of-type {\n",
       "        vertical-align: middle;\n",
       "    }\n",
       "\n",
       "    .dataframe tbody tr th {\n",
       "        vertical-align: top;\n",
       "    }\n",
       "\n",
       "    .dataframe thead th {\n",
       "        text-align: right;\n",
       "    }\n",
       "</style>\n",
       "<table border=\"1\" class=\"dataframe\">\n",
       "  <thead>\n",
       "    <tr style=\"text-align: right;\">\n",
       "      <th></th>\n",
       "      <th>Loan_ID</th>\n",
       "      <th>Gender</th>\n",
       "      <th>Married</th>\n",
       "      <th>Dependents</th>\n",
       "      <th>Education</th>\n",
       "      <th>Self_Employed</th>\n",
       "      <th>ApplicantIncome</th>\n",
       "      <th>CoapplicantIncome</th>\n",
       "      <th>LoanAmount</th>\n",
       "      <th>Loan_Amount_Term</th>\n",
       "      <th>Credit_History</th>\n",
       "      <th>Property_Area</th>\n",
       "      <th>Loan_Status</th>\n",
       "    </tr>\n",
       "  </thead>\n",
       "  <tbody>\n",
       "    <tr>\n",
       "      <th>0</th>\n",
       "      <td>LP001002</td>\n",
       "      <td>1</td>\n",
       "      <td>0</td>\n",
       "      <td>0</td>\n",
       "      <td>1</td>\n",
       "      <td>0</td>\n",
       "      <td>5849</td>\n",
       "      <td>0.0</td>\n",
       "      <td>128.0</td>\n",
       "      <td>30.0</td>\n",
       "      <td>1.0</td>\n",
       "      <td>Urban</td>\n",
       "      <td>Y</td>\n",
       "    </tr>\n",
       "    <tr>\n",
       "      <th>1</th>\n",
       "      <td>LP001003</td>\n",
       "      <td>1</td>\n",
       "      <td>1</td>\n",
       "      <td>1</td>\n",
       "      <td>1</td>\n",
       "      <td>0</td>\n",
       "      <td>4583</td>\n",
       "      <td>1508.0</td>\n",
       "      <td>128.0</td>\n",
       "      <td>30.0</td>\n",
       "      <td>1.0</td>\n",
       "      <td>Rural</td>\n",
       "      <td>N</td>\n",
       "    </tr>\n",
       "    <tr>\n",
       "      <th>2</th>\n",
       "      <td>LP001005</td>\n",
       "      <td>1</td>\n",
       "      <td>1</td>\n",
       "      <td>0</td>\n",
       "      <td>1</td>\n",
       "      <td>1</td>\n",
       "      <td>3000</td>\n",
       "      <td>0.0</td>\n",
       "      <td>66.0</td>\n",
       "      <td>30.0</td>\n",
       "      <td>1.0</td>\n",
       "      <td>Urban</td>\n",
       "      <td>Y</td>\n",
       "    </tr>\n",
       "    <tr>\n",
       "      <th>3</th>\n",
       "      <td>LP001006</td>\n",
       "      <td>1</td>\n",
       "      <td>1</td>\n",
       "      <td>0</td>\n",
       "      <td>0</td>\n",
       "      <td>0</td>\n",
       "      <td>2583</td>\n",
       "      <td>2358.0</td>\n",
       "      <td>120.0</td>\n",
       "      <td>30.0</td>\n",
       "      <td>1.0</td>\n",
       "      <td>Urban</td>\n",
       "      <td>Y</td>\n",
       "    </tr>\n",
       "    <tr>\n",
       "      <th>4</th>\n",
       "      <td>LP001008</td>\n",
       "      <td>1</td>\n",
       "      <td>0</td>\n",
       "      <td>0</td>\n",
       "      <td>1</td>\n",
       "      <td>0</td>\n",
       "      <td>6000</td>\n",
       "      <td>0.0</td>\n",
       "      <td>141.0</td>\n",
       "      <td>30.0</td>\n",
       "      <td>1.0</td>\n",
       "      <td>Urban</td>\n",
       "      <td>Y</td>\n",
       "    </tr>\n",
       "  </tbody>\n",
       "</table>\n",
       "</div>"
      ],
      "text/plain": [
       "    Loan_ID  Gender  Married  Dependents  Education  Self_Employed   \n",
       "0  LP001002       1        0           0          1              0  \\\n",
       "1  LP001003       1        1           1          1              0   \n",
       "2  LP001005       1        1           0          1              1   \n",
       "3  LP001006       1        1           0          0              0   \n",
       "4  LP001008       1        0           0          1              0   \n",
       "\n",
       "   ApplicantIncome  CoapplicantIncome  LoanAmount  Loan_Amount_Term   \n",
       "0             5849                0.0       128.0              30.0  \\\n",
       "1             4583             1508.0       128.0              30.0   \n",
       "2             3000                0.0        66.0              30.0   \n",
       "3             2583             2358.0       120.0              30.0   \n",
       "4             6000                0.0       141.0              30.0   \n",
       "\n",
       "   Credit_History Property_Area Loan_Status  \n",
       "0             1.0         Urban           Y  \n",
       "1             1.0         Rural           N  \n",
       "2             1.0         Urban           Y  \n",
       "3             1.0         Urban           Y  \n",
       "4             1.0         Urban           Y  "
      ]
     },
     "execution_count": 104,
     "metadata": {},
     "output_type": "execute_result"
    }
   ],
   "source": [
    "train_df.head()"
   ]
  },
  {
   "cell_type": "code",
   "execution_count": 105,
   "id": "1c3bcddd",
   "metadata": {
    "papermill": {
     "duration": 0.055758,
     "end_time": "2023-05-15T05:46:38.214278",
     "exception": false,
     "start_time": "2023-05-15T05:46:38.158520",
     "status": "completed"
    },
    "tags": []
   },
   "outputs": [],
   "source": [
    "#Splitting the data Set\n",
    "X = train_df.iloc[:,1:-1]\n",
    "y = train_df.iloc[:,-1:]"
   ]
  },
  {
   "cell_type": "code",
   "execution_count": 106,
   "id": "7cc2eaad",
   "metadata": {
    "papermill": {
     "duration": 0.056016,
     "end_time": "2023-05-15T05:46:38.314460",
     "exception": false,
     "start_time": "2023-05-15T05:46:38.258444",
     "status": "completed"
    },
    "tags": []
   },
   "outputs": [
    {
     "data": {
      "text/plain": [
       "array(['Y', 'N'], dtype=object)"
      ]
     },
     "execution_count": 106,
     "metadata": {},
     "output_type": "execute_result"
    }
   ],
   "source": [
    "y['Loan_Status'].unique()"
   ]
  },
  {
   "cell_type": "code",
   "execution_count": 107,
   "id": "02c14c4e",
   "metadata": {
    "papermill": {
     "duration": 0.056587,
     "end_time": "2023-05-15T05:46:38.414648",
     "exception": false,
     "start_time": "2023-05-15T05:46:38.358061",
     "status": "completed"
    },
    "tags": []
   },
   "outputs": [],
   "source": [
    "y_numbered = y.copy()\n",
    "y_numbered['Loan_Status'] = y_numbered.replace(['Y','N'],[1,0])"
   ]
  },
  {
   "cell_type": "code",
   "execution_count": 108,
   "id": "c5e2f7d1",
   "metadata": {
    "papermill": {
     "duration": 0.072056,
     "end_time": "2023-05-15T05:46:38.529424",
     "exception": false,
     "start_time": "2023-05-15T05:46:38.457368",
     "status": "completed"
    },
    "tags": []
   },
   "outputs": [
    {
     "data": {
      "text/html": [
       "<div>\n",
       "<style scoped>\n",
       "    .dataframe tbody tr th:only-of-type {\n",
       "        vertical-align: middle;\n",
       "    }\n",
       "\n",
       "    .dataframe tbody tr th {\n",
       "        vertical-align: top;\n",
       "    }\n",
       "\n",
       "    .dataframe thead th {\n",
       "        text-align: right;\n",
       "    }\n",
       "</style>\n",
       "<table border=\"1\" class=\"dataframe\">\n",
       "  <thead>\n",
       "    <tr style=\"text-align: right;\">\n",
       "      <th></th>\n",
       "      <th>Gender</th>\n",
       "      <th>Married</th>\n",
       "      <th>Dependents</th>\n",
       "      <th>Education</th>\n",
       "      <th>Self_Employed</th>\n",
       "      <th>ApplicantIncome</th>\n",
       "      <th>CoapplicantIncome</th>\n",
       "      <th>LoanAmount</th>\n",
       "      <th>Loan_Amount_Term</th>\n",
       "      <th>Credit_History</th>\n",
       "      <th>Rural</th>\n",
       "      <th>Semiurban</th>\n",
       "      <th>Urban</th>\n",
       "    </tr>\n",
       "  </thead>\n",
       "  <tbody>\n",
       "    <tr>\n",
       "      <th>0</th>\n",
       "      <td>1</td>\n",
       "      <td>0</td>\n",
       "      <td>0</td>\n",
       "      <td>1</td>\n",
       "      <td>0</td>\n",
       "      <td>5849</td>\n",
       "      <td>0.0</td>\n",
       "      <td>128.0</td>\n",
       "      <td>30.0</td>\n",
       "      <td>1.0</td>\n",
       "      <td>False</td>\n",
       "      <td>False</td>\n",
       "      <td>True</td>\n",
       "    </tr>\n",
       "    <tr>\n",
       "      <th>1</th>\n",
       "      <td>1</td>\n",
       "      <td>1</td>\n",
       "      <td>1</td>\n",
       "      <td>1</td>\n",
       "      <td>0</td>\n",
       "      <td>4583</td>\n",
       "      <td>1508.0</td>\n",
       "      <td>128.0</td>\n",
       "      <td>30.0</td>\n",
       "      <td>1.0</td>\n",
       "      <td>True</td>\n",
       "      <td>False</td>\n",
       "      <td>False</td>\n",
       "    </tr>\n",
       "    <tr>\n",
       "      <th>2</th>\n",
       "      <td>1</td>\n",
       "      <td>1</td>\n",
       "      <td>0</td>\n",
       "      <td>1</td>\n",
       "      <td>1</td>\n",
       "      <td>3000</td>\n",
       "      <td>0.0</td>\n",
       "      <td>66.0</td>\n",
       "      <td>30.0</td>\n",
       "      <td>1.0</td>\n",
       "      <td>False</td>\n",
       "      <td>False</td>\n",
       "      <td>True</td>\n",
       "    </tr>\n",
       "    <tr>\n",
       "      <th>3</th>\n",
       "      <td>1</td>\n",
       "      <td>1</td>\n",
       "      <td>0</td>\n",
       "      <td>0</td>\n",
       "      <td>0</td>\n",
       "      <td>2583</td>\n",
       "      <td>2358.0</td>\n",
       "      <td>120.0</td>\n",
       "      <td>30.0</td>\n",
       "      <td>1.0</td>\n",
       "      <td>False</td>\n",
       "      <td>False</td>\n",
       "      <td>True</td>\n",
       "    </tr>\n",
       "    <tr>\n",
       "      <th>4</th>\n",
       "      <td>1</td>\n",
       "      <td>0</td>\n",
       "      <td>0</td>\n",
       "      <td>1</td>\n",
       "      <td>0</td>\n",
       "      <td>6000</td>\n",
       "      <td>0.0</td>\n",
       "      <td>141.0</td>\n",
       "      <td>30.0</td>\n",
       "      <td>1.0</td>\n",
       "      <td>False</td>\n",
       "      <td>False</td>\n",
       "      <td>True</td>\n",
       "    </tr>\n",
       "  </tbody>\n",
       "</table>\n",
       "</div>"
      ],
      "text/plain": [
       "   Gender  Married  Dependents  Education  Self_Employed  ApplicantIncome   \n",
       "0       1        0           0          1              0             5849  \\\n",
       "1       1        1           1          1              0             4583   \n",
       "2       1        1           0          1              1             3000   \n",
       "3       1        1           0          0              0             2583   \n",
       "4       1        0           0          1              0             6000   \n",
       "\n",
       "   CoapplicantIncome  LoanAmount  Loan_Amount_Term  Credit_History  Rural   \n",
       "0                0.0       128.0              30.0             1.0  False  \\\n",
       "1             1508.0       128.0              30.0             1.0   True   \n",
       "2                0.0        66.0              30.0             1.0  False   \n",
       "3             2358.0       120.0              30.0             1.0  False   \n",
       "4                0.0       141.0              30.0             1.0  False   \n",
       "\n",
       "   Semiurban  Urban  \n",
       "0      False   True  \n",
       "1      False  False  \n",
       "2      False   True  \n",
       "3      False   True  \n",
       "4      False   True  "
      ]
     },
     "execution_count": 108,
     "metadata": {},
     "output_type": "execute_result"
    }
   ],
   "source": [
    "#Creating dummies for Categorical features\n",
    "\n",
    "\n",
    "dummies = pd.get_dummies(X['Property_Area'])\n",
    "\n",
    "#Dropping the categorical feature columns from the dataset , and then concatinating the dummies\n",
    "\n",
    "X.drop(['Property_Area'], axis=1, inplace=True)\n",
    "X_dummied = pd.concat([X,dummies], axis='columns')\n",
    "\n",
    "X_dummied.head()"
   ]
  },
  {
   "cell_type": "code",
   "execution_count": 109,
   "id": "b78bf7c1",
   "metadata": {
    "papermill": {
     "duration": 0.309411,
     "end_time": "2023-05-15T05:46:38.881799",
     "exception": false,
     "start_time": "2023-05-15T05:46:38.572388",
     "status": "completed"
    },
    "tags": []
   },
   "outputs": [],
   "source": [
    "from sklearn.model_selection import train_test_split\n",
    "\n",
    "X_train, X_test, y_train, y_test = train_test_split(X_dummied, y_numbered, test_size=0.3, random_state=42)"
   ]
  },
  {
   "cell_type": "code",
   "execution_count": 110,
   "id": "09c7e669",
   "metadata": {
    "papermill": {
     "duration": 0.056524,
     "end_time": "2023-05-15T05:46:38.982035",
     "exception": false,
     "start_time": "2023-05-15T05:46:38.925511",
     "status": "completed"
    },
    "tags": []
   },
   "outputs": [
    {
     "name": "stdout",
     "output_type": "stream",
     "text": [
      "X train shape:  (429, 13)\n",
      "y train shape:  (429, 1)\n",
      "X test shape:  (185, 13)\n",
      "y test shape:  (185, 1)\n"
     ]
    }
   ],
   "source": [
    "print('X train shape: ',X_train.shape)\n",
    "print('y train shape: ',y_train.shape)\n",
    "print('X test shape: ',X_test.shape)\n",
    "print('y test shape: ',y_test.shape)"
   ]
  },
  {
   "cell_type": "code",
   "execution_count": 111,
   "id": "d4f524f3",
   "metadata": {
    "papermill": {
     "duration": 0.062549,
     "end_time": "2023-05-15T05:46:39.088467",
     "exception": false,
     "start_time": "2023-05-15T05:46:39.025918",
     "status": "completed"
    },
    "tags": []
   },
   "outputs": [],
   "source": [
    "from sklearn.preprocessing import MinMaxScaler\n",
    "\n",
    "scaler = MinMaxScaler()\n",
    "\n",
    "X_train_normalized = scaler.fit_transform(X_train)\n",
    "X_test_normalized = scaler.transform(X_test)"
   ]
  },
  {
   "cell_type": "code",
   "execution_count": 112,
   "id": "9dcf241d",
   "metadata": {
    "papermill": {
     "duration": 0.245139,
     "end_time": "2023-05-15T05:46:39.377082",
     "exception": false,
     "start_time": "2023-05-15T05:46:39.131943",
     "status": "completed"
    },
    "tags": []
   },
   "outputs": [
    {
     "name": "stdout",
     "output_type": "stream",
     "text": [
      "0.7575757575757576\n"
     ]
    }
   ],
   "source": [
    "from sklearn.neighbors import KNeighborsClassifier\n",
    "\n",
    "\n",
    "\n",
    "#There is a saying that optimal value for K is square root of n, where n is number of samples\n",
    "#No of samples=429, square root of 429=20.7, we take k = 21\n",
    "KNN = KNeighborsClassifier(n_neighbors=21)\n",
    "KNN.fit(X_train_normalized, np.ravel(y_train))\n",
    "print(KNN.score(X_train_normalized, y_train))"
   ]
  },
  {
   "cell_type": "code",
   "execution_count": 113,
   "id": "ae155b67",
   "metadata": {
    "papermill": {
     "duration": 0.06537,
     "end_time": "2023-05-15T05:46:39.485378",
     "exception": false,
     "start_time": "2023-05-15T05:46:39.420008",
     "status": "completed"
    },
    "tags": []
   },
   "outputs": [
    {
     "name": "stdout",
     "output_type": "stream",
     "text": [
      "0.7135135135135136\n"
     ]
    }
   ],
   "source": [
    "print(KNN.score(X_test_normalized, y_test))"
   ]
  },
  {
   "cell_type": "markdown",
   "id": "7b50df39",
   "metadata": {
    "papermill": {
     "duration": 0.042709,
     "end_time": "2023-05-15T05:46:39.572063",
     "exception": false,
     "start_time": "2023-05-15T05:46:39.529354",
     "status": "completed"
    },
    "tags": []
   },
   "source": [
    "> *Now different Lenders has different strategic on choosing the metric for choosing the right candidate to approve for Loan,*"
   ]
  },
  {
   "cell_type": "markdown",
   "id": "9d499bc0",
   "metadata": {
    "papermill": {
     "duration": 0.044449,
     "end_time": "2023-05-15T05:46:39.659713",
     "exception": false,
     "start_time": "2023-05-15T05:46:39.615264",
     "status": "completed"
    },
    "tags": []
   },
   "source": [
    "> *1.If you are an representative of an government program helping out to people in needs, then you want as much poor people to get the loan as possible, so for metric choosing sensitivity or recall is the right path. But if you have an limited buget, then with sensitity you also want to take precision into consideration so f1score.*"
   ]
  },
  {
   "cell_type": "markdown",
   "id": "2459033f",
   "metadata": {
    "papermill": {
     "duration": 0.04261,
     "end_time": "2023-05-15T05:46:39.746025",
     "exception": false,
     "start_time": "2023-05-15T05:46:39.703415",
     "status": "completed"
    },
    "tags": []
   },
   "source": [
    "> *2.For most cases, you are working at a bank giving loan at an interest purely for return profit.If you are looking to minimize the loss of correctly identify which people not to give loan to then specificity is the metric to go for.But by following that path, your model might loose focus on people who bank should be giving loan to.*"
   ]
  },
  {
   "cell_type": "code",
   "execution_count": 114,
   "id": "c380d42d",
   "metadata": {
    "papermill": {
     "duration": 2.437501,
     "end_time": "2023-05-15T05:46:42.227010",
     "exception": false,
     "start_time": "2023-05-15T05:46:39.789509",
     "status": "completed"
    },
    "tags": []
   },
   "outputs": [
    {
     "name": "stdout",
     "output_type": "stream",
     "text": [
      "Fitting 10 folds for each of 50 candidates, totalling 500 fits\n"
     ]
    }
   ],
   "source": [
    "#Performing Grid Search to find the optimal hyper parameters\n",
    "\n",
    "from sklearn.model_selection import GridSearchCV\n",
    "\n",
    "k_range = list(range(1, 51,2))\n",
    "p_range=[1,2] #1 for manhattan distance 2 for ecludiean distance\n",
    "param_grid = {\n",
    "               'n_neighbors':k_range,\n",
    "               'p':p_range,\n",
    "    \n",
    "}\n",
    "\n",
    "grid = GridSearchCV(KNN, param_grid, cv=10, scoring='accuracy', return_train_score=False,verbose=1)\n",
    "  \n",
    "# fitting the model for grid search\n",
    "grid_search=grid.fit(X_train_normalized, np.ravel(y_train))"
   ]
  },
  {
   "cell_type": "code",
   "execution_count": 115,
   "id": "4435a0ec",
   "metadata": {
    "papermill": {
     "duration": 0.058191,
     "end_time": "2023-05-15T05:46:42.330912",
     "exception": false,
     "start_time": "2023-05-15T05:46:42.272721",
     "status": "completed"
    },
    "tags": []
   },
   "outputs": [
    {
     "name": "stdout",
     "output_type": "stream",
     "text": [
      "{'n_neighbors': 3, 'p': 2}\n"
     ]
    }
   ],
   "source": [
    "print(grid_search.best_params_)"
   ]
  },
  {
   "cell_type": "code",
   "execution_count": 116,
   "id": "fb6af2a6",
   "metadata": {
    "papermill": {
     "duration": 0.077395,
     "end_time": "2023-05-15T05:46:42.452270",
     "exception": false,
     "start_time": "2023-05-15T05:46:42.374875",
     "status": "completed"
    },
    "tags": []
   },
   "outputs": [
    {
     "name": "stdout",
     "output_type": "stream",
     "text": [
      "0.8601398601398601\n"
     ]
    }
   ],
   "source": [
    "#Best model\n",
    "\n",
    "KNN = KNeighborsClassifier(n_neighbors=3, p=2)\n",
    "KNN.fit(X_train_normalized, np.ravel(y_train))\n",
    "print(KNN.score(X_train_normalized, y_train))"
   ]
  },
  {
   "cell_type": "code",
   "execution_count": 117,
   "id": "a0081ca6",
   "metadata": {
    "papermill": {
     "duration": 0.063952,
     "end_time": "2023-05-15T05:46:42.560135",
     "exception": false,
     "start_time": "2023-05-15T05:46:42.496183",
     "status": "completed"
    },
    "tags": []
   },
   "outputs": [
    {
     "name": "stdout",
     "output_type": "stream",
     "text": [
      "0.7513513513513513\n"
     ]
    }
   ],
   "source": [
    "print(KNN.score(X_test_normalized, y_test))"
   ]
  },
  {
   "cell_type": "code",
   "execution_count": 118,
   "id": "39af3e88",
   "metadata": {
    "papermill": {
     "duration": 0.069082,
     "end_time": "2023-05-15T05:46:42.674252",
     "exception": false,
     "start_time": "2023-05-15T05:46:42.605170",
     "status": "completed"
    },
    "tags": []
   },
   "outputs": [
    {
     "data": {
      "text/plain": [
       "array([[110,  10],\n",
       "       [ 36,  29]], dtype=int64)"
      ]
     },
     "execution_count": 118,
     "metadata": {},
     "output_type": "execute_result"
    }
   ],
   "source": [
    "from sklearn.metrics import confusion_matrix\n",
    "\n",
    "y_predict = KNN.predict(X_test_normalized)\n",
    "confusion_matrix(y_test,y_predict, labels=[1,0])\n"
   ]
  },
  {
   "cell_type": "code",
   "execution_count": 119,
   "id": "aca518cc",
   "metadata": {
    "papermill": {
     "duration": 0.056617,
     "end_time": "2023-05-15T05:46:42.775108",
     "exception": false,
     "start_time": "2023-05-15T05:46:42.718491",
     "status": "completed"
    },
    "tags": []
   },
   "outputs": [
    {
     "name": "stdout",
     "output_type": "stream",
     "text": [
      "0.4461538461538462\n",
      "0.9166666666666666\n",
      "0.7513513513513513\n",
      "0.7534246575342466\n"
     ]
    }
   ],
   "source": [
    "specificity = 29/(29+36)  #(TN)/(TN+FP)\n",
    "sensitivity = 110/(110+10) #(TP)/(TP+FN) also a.k.a recall\n",
    "accuracy = (110+29)/(110+36+10+29) #(TP+TN)/(TP+TN+FP+FN)\n",
    "precision = (110)/(110+36) #(TP)/(TP+FP)\n",
    "print(specificity)\n",
    "print(sensitivity)\n",
    "print(accuracy)\n",
    "print(precision)"
   ]
  },
  {
   "cell_type": "markdown",
   "id": "9a9aef80",
   "metadata": {
    "papermill": {
     "duration": 0.042902,
     "end_time": "2023-05-15T05:46:42.861355",
     "exception": false,
     "start_time": "2023-05-15T05:46:42.818453",
     "status": "completed"
    },
    "tags": []
   },
   "source": [
    "> *This KNN model has decent accuracy 75.1%, low specificity 44% but really high 91% sensitivity.*"
   ]
  },
  {
   "cell_type": "code",
   "execution_count": null,
   "id": "e7591117",
   "metadata": {
    "papermill": {
     "duration": 0.044373,
     "end_time": "2023-05-15T05:46:42.949008",
     "exception": false,
     "start_time": "2023-05-15T05:46:42.904635",
     "status": "completed"
    },
    "tags": []
   },
   "outputs": [],
   "source": []
  }
 ],
 "metadata": {
  "kernelspec": {
   "display_name": "Python 3 (ipykernel)",
   "language": "python",
   "name": "python3"
  },
  "language_info": {
   "codemirror_mode": {
    "name": "ipython",
    "version": 3
   },
   "file_extension": ".py",
   "mimetype": "text/x-python",
   "name": "python",
   "nbconvert_exporter": "python",
   "pygments_lexer": "ipython3",
   "version": "3.11.7"
  },
  "papermill": {
   "default_parameters": {},
   "duration": 30.946893,
   "end_time": "2023-05-15T05:46:43.916366",
   "environment_variables": {},
   "exception": null,
   "input_path": "__notebook__.ipynb",
   "output_path": "__notebook__.ipynb",
   "parameters": {},
   "start_time": "2023-05-15T05:46:12.969473",
   "version": "2.3.4"
  }
 },
 "nbformat": 4,
 "nbformat_minor": 5
}
